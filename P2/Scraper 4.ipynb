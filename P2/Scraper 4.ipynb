{
 "cells": [
  {
   "cell_type": "code",
   "execution_count": 50,
   "id": "fa2c65f4",
   "metadata": {},
   "outputs": [],
   "source": [
    "#import all necessary labraries\n",
    "from selenium import webdriver\n",
    "from selenium.webdriver.common.by import By\n",
    "import requests\n",
    "from bs4 import BeautifulSoup\n",
    "import re\n",
    "import pandas as pd\n",
    "import numpy as np\n",
    "import csv\n",
    "from urllib.request import Request, urlopen\n",
    "import time\n",
    "from multiprocessing import Process, Manager"
   ]
  },
  {
   "cell_type": "code",
   "execution_count": null,
   "id": "4d4fd650",
   "metadata": {},
   "outputs": [],
   "source": [
    "'''\n",
    "THIS CODE BLOCK IS FOR TESTING TAG INPUTS.\n",
    "YOU CAN USE THE BELOW TABLE LISTS FOR VERIFYING MOVIES FROM OTHER LANGUAGES\n",
    "Kannada movies 2013-2024 [1,2,3,4]\n",
    "Hindi Movies 2013 - 2018 [1,2,3,4], 2019-2023 [2,3,4,5]\n",
    "Telugu Movies 2013 - 2019 [1,2]; 2020 -2021 [1,2,3,4]; 2022-2023[2,3,4,5]\n",
    "Tamil Movies 2013-2016 [1,2], 2016-2021 [1,2,3,4], 2022-2023 [2,3,4,5]\n",
    "American movies 2013-2023 [1,2,3,4]\n",
    "British movies - 2014-2020 [0,1,2,3]; 2021[1,2,3,4]; 2022-2023[2,3,4,5]\n",
    "\n",
    "'''\n",
    "\n",
    "year = 2021\n",
    "if lang == 'Hindi':\n",
    "            if (year>= 2014 and year <= 2018) or year == 2020 or year == 2021:\n",
    "                table_list = [1,2,3,4]\n",
    "            else:\n",
    "                table_list = [2,3,4,5]\n",
    "url = f\"https://en.wikipedia.org/wiki/List_of_Hindi_films_of_{year}\"\n",
    "page=requests.get(url)\n",
    "soup=BeautifulSoup(page.text,'html.parser')\n",
    "mov_titles = [] \n",
    "table_elements = soup.find_all(\"table\", class_ = 'wikitable')\n",
    "print(table_elements[1])\n",
    "for table in table_list:\n",
    "    print(table_elements[table])\n",
    "\n",
    "\n",
    "# for table in table_list:\n",
    "#     i_elements = table_elements[table].find_all('i')\n",
    "#     for i in i_elements:\n",
    "#         title = i.find(\"a\")\n",
    "#         if (title== None):\n",
    "#             continue\n",
    "#         else:                \n",
    "#             mov_titles.append(title.text)\n",
    "# print(mov_titles)\n"
   ]
  },
  {
   "cell_type": "code",
   "execution_count": 3,
   "id": "b7a3ffaf",
   "metadata": {},
   "outputs": [],
   "source": [
    "def scrape_mov_titles(start_range, end_range, lang):\n",
    "    file_name = f\"{lang}_movie_list_{start_range}_to_{end_range}\"\n",
    "    with open(file_name, 'w', newline = '',encoding = 'UTF8') as head:\n",
    "        header = [\"YEAR\", \"LANGUAGE\", \"TITLE\"]\n",
    "        writer1 = csv.writer(head)\n",
    "        writer1.writerow(header)\n",
    "    for i in range(start_range,end_range):\n",
    "        year = i\n",
    "        if year<2014 and year>2023:\n",
    "            print(\"INVALID YEAR RANGE\")\n",
    "        if lang.lower() not in('americanbritishhindi'):\n",
    "            print('INVALID LANGUAGE SELECTED')\n",
    "        if lang == 'Hindi':\n",
    "            if (year>= 2014 and year <= 2018) or year == 2020 or year == 2021:\n",
    "                table_list = [1,2,3,4]\n",
    "            else:\n",
    "                table_list = [2,3,4,5]\n",
    "        if lang == 'American':\n",
    "            table_list = [1,2,3,4]\n",
    "        if lang == 'British':\n",
    "            if year>=2014 and year<= 2020:\n",
    "                table_list = [0,1,2,3]\n",
    "            elif year == 2021:\n",
    "                table_list = [1,2,3,4]\n",
    "            else:\n",
    "                table_list = [2,3,4,5]\n",
    "        print(year, 'Success')\n",
    "\n",
    "        url = f\"https://en.wikipedia.org/wiki/List_of_{lang}_films_of_{year}\"\n",
    "\n",
    "      # Sending an HTTP GET request to the URL\n",
    "        page=requests.get(url)\n",
    "      # Parsing the HTML content using BeautifulSoup with the 'html.parser'\n",
    "        soup=BeautifulSoup(page.text,'html.parser') \n",
    "        table_elements = soup.find_all(\"table\", class_ = 'wikitable')\n",
    "        for table in table_list:\n",
    "            i_elements = table_elements[table].find_all('i')\n",
    "            for i in i_elements:\n",
    "                title = i.find(\"a\")\n",
    "                if (title== None):\n",
    "                    continue\n",
    "                else:\n",
    "                    with open(file_name, 'a+', newline = '', encoding = 'UTF8') as rows:\n",
    "                        individual_row_data = [year, lang, title.text]\n",
    "                        writer2 = csv.writer(rows)\n",
    "                        writer2.writerow(individual_row_data)\n"
   ]
  },
  {
   "cell_type": "code",
   "execution_count": 297,
   "id": "5214b598",
   "metadata": {
    "scrolled": true
   },
   "outputs": [
    {
     "name": "stdout",
     "output_type": "stream",
     "text": [
      "2014 Success\n",
      "2015 Success\n",
      "2016 Success\n",
      "2017 Success\n",
      "2018 Success\n",
      "2019 Success\n",
      "2020 Success\n",
      "2021 Success\n",
      "2022 Success\n",
      "2023 Success\n"
     ]
    }
   ],
   "source": [
    "scrape_mov_titles(2014, 2024, 'British')"
   ]
  },
  {
   "cell_type": "code",
   "execution_count": 298,
   "id": "75630f7c",
   "metadata": {},
   "outputs": [
    {
     "name": "stdout",
     "output_type": "stream",
     "text": [
      "2014 Success\n",
      "2015 Success\n",
      "2016 Success\n",
      "2017 Success\n",
      "2018 Success\n",
      "2019 Success\n",
      "2020 Success\n",
      "2021 Success\n",
      "2022 Success\n",
      "2023 Success\n"
     ]
    }
   ],
   "source": [
    "scrape_mov_titles(2014,2024,'American')"
   ]
  },
  {
   "cell_type": "code",
   "execution_count": 299,
   "id": "815f9d6c",
   "metadata": {},
   "outputs": [
    {
     "name": "stdout",
     "output_type": "stream",
     "text": [
      "2014 Success\n",
      "2015 Success\n",
      "2016 Success\n",
      "2017 Success\n",
      "2018 Success\n",
      "2019 Success\n",
      "2020 Success\n",
      "2021 Success\n",
      "2022 Success\n",
      "2023 Success\n"
     ]
    }
   ],
   "source": [
    "scrape_mov_titles(2014,2024,'Hindi')"
   ]
  },
  {
   "cell_type": "code",
   "execution_count": 6,
   "id": "0d18611a",
   "metadata": {},
   "outputs": [],
   "source": [
    "mov_raw = pd.read_excel(r\"C:\\Users\\aniru\\OneDrive\\Documents\\SRC\\SRC 4\\All_movies_2013-2023.xlsx\")\n",
    "title_series = pd.Series(mov_raw.loc[:,'TITLE'])"
   ]
  },
  {
   "cell_type": "code",
   "execution_count": 7,
   "id": "1f5f5fc3",
   "metadata": {},
   "outputs": [
    {
     "data": {
      "text/html": [
       "<div>\n",
       "<style scoped>\n",
       "    .dataframe tbody tr th:only-of-type {\n",
       "        vertical-align: middle;\n",
       "    }\n",
       "\n",
       "    .dataframe tbody tr th {\n",
       "        vertical-align: top;\n",
       "    }\n",
       "\n",
       "    .dataframe thead th {\n",
       "        text-align: right;\n",
       "    }\n",
       "</style>\n",
       "<table border=\"1\" class=\"dataframe\">\n",
       "  <thead>\n",
       "    <tr style=\"text-align: right;\">\n",
       "      <th></th>\n",
       "      <th>YEAR</th>\n",
       "      <th>LANGUAGE</th>\n",
       "      <th>TITLE</th>\n",
       "    </tr>\n",
       "  </thead>\n",
       "  <tbody>\n",
       "    <tr>\n",
       "      <th>23</th>\n",
       "      <td>2014</td>\n",
       "      <td>American</td>\n",
       "      <td>The Monuments Men</td>\n",
       "    </tr>\n",
       "    <tr>\n",
       "      <th>523</th>\n",
       "      <td>2016</td>\n",
       "      <td>American</td>\n",
       "      <td>Characterz</td>\n",
       "    </tr>\n",
       "    <tr>\n",
       "      <th>1023</th>\n",
       "      <td>2018</td>\n",
       "      <td>American</td>\n",
       "      <td>Hell House LLC II: The Abaddon Hotel</td>\n",
       "    </tr>\n",
       "    <tr>\n",
       "      <th>1523</th>\n",
       "      <td>2020</td>\n",
       "      <td>American</td>\n",
       "      <td>The Boys in the Band</td>\n",
       "    </tr>\n",
       "    <tr>\n",
       "      <th>2023</th>\n",
       "      <td>2022</td>\n",
       "      <td>American</td>\n",
       "      <td>The Hyperions</td>\n",
       "    </tr>\n",
       "    <tr>\n",
       "      <th>2523</th>\n",
       "      <td>2023</td>\n",
       "      <td>American</td>\n",
       "      <td>Fair Play</td>\n",
       "    </tr>\n",
       "    <tr>\n",
       "      <th>3023</th>\n",
       "      <td>2017</td>\n",
       "      <td>Hindi</td>\n",
       "      <td>Mantostaan</td>\n",
       "    </tr>\n",
       "    <tr>\n",
       "      <th>3523</th>\n",
       "      <td>2022</td>\n",
       "      <td>Hindi</td>\n",
       "      <td>Gehraiyaan</td>\n",
       "    </tr>\n",
       "    <tr>\n",
       "      <th>4023</th>\n",
       "      <td>2016</td>\n",
       "      <td>British</td>\n",
       "      <td>The Pass</td>\n",
       "    </tr>\n",
       "    <tr>\n",
       "      <th>4523</th>\n",
       "      <td>2019</td>\n",
       "      <td>British</td>\n",
       "      <td>The Man Who Killed Don Quixote</td>\n",
       "    </tr>\n",
       "  </tbody>\n",
       "</table>\n",
       "</div>"
      ],
      "text/plain": [
       "      YEAR  LANGUAGE                                 TITLE\n",
       "23    2014  American                     The Monuments Men\n",
       "523   2016  American                            Characterz\n",
       "1023  2018  American  Hell House LLC II: The Abaddon Hotel\n",
       "1523  2020  American                  The Boys in the Band\n",
       "2023  2022  American                         The Hyperions\n",
       "2523  2023  American                             Fair Play\n",
       "3023  2017     Hindi                            Mantostaan\n",
       "3523  2022     Hindi                            Gehraiyaan\n",
       "4023  2016   British                              The Pass\n",
       "4523  2019   British        The Man Who Killed Don Quixote"
      ]
     },
     "execution_count": 7,
     "metadata": {},
     "output_type": "execute_result"
    }
   ],
   "source": [
    "mov_raw.iloc[23:5000:500]"
   ]
  },
  {
   "cell_type": "code",
   "execution_count": 35,
   "id": "de57d6e0",
   "metadata": {},
   "outputs": [],
   "source": [
    "def url_extractor(title):\n",
    "    title_form = title.strip().replace(' ','%20')\n",
    "    site= f\"https://www.imdb.com/find/?q={title_form}&ref_=nv_sr_sm\"\n",
    "    hdr = {'User-Agent': 'Mozilla/5.0'}\n",
    "    req = Request(site,headers=hdr)\n",
    "    page = urlopen(req)\n",
    "    soup2 = BeautifulSoup(page, 'html.parser')\n",
    "    res = soup2.find_all('a', class_ = 'ipc-metadata-list-summary-item__t', role = 'button')\n",
    "    movie_link = f\"https://www.imdb.com{res[0]['href']}\"\n",
    "    imdb_id = res_brk_dwn = res[0]['href'].split('/')[2][2:]\n",
    "    return movie_link, imdb_id"
   ]
  },
  {
   "cell_type": "code",
   "execution_count": 8,
   "id": "98c8472e",
   "metadata": {
    "scrolled": true
   },
   "outputs": [
    {
     "name": "stdout",
     "output_type": "stream",
     "text": [
      "('https://www.imdb.com/title/tt2177771/?ref_=fn_al_tt_1', '2177771')\n"
     ]
    }
   ],
   "source": [
    "print(url_extractor('The Monuments Men'))"
   ]
  },
  {
   "cell_type": "markdown",
   "id": "48978297",
   "metadata": {},
   "source": [
    "Data to collect:\n",
    "genres,overview,"
   ]
  },
  {
   "cell_type": "code",
   "execution_count": 36,
   "id": "e6613325",
   "metadata": {},
   "outputs": [],
   "source": [
    "def get_cast_genre(movie_url):\n",
    "    hdr = {'User-Agent': 'Mozilla/5.0'}\n",
    "    req = Request(movie_url,headers=hdr)\n",
    "    page = urlopen(req)\n",
    "    soup3 = BeautifulSoup(page, 'html.parser')\n",
    "    a1_tags = soup3.find_all('a', attrs = {'data-testid':'title-cast-item__actor'})\n",
    "    cast = ''\n",
    "    genre_list = []\n",
    "\n",
    "    for a in a1_tags:\n",
    "        cast += a.text + ';'\n",
    "    span_tags = soup3.find_all('span', attrs = {'class':'ipc-chip__text'})\n",
    "    for spn in span_tags:\n",
    "        genre_list += spn\n",
    "    genre = ';'.join(genre_list[:-1])\n",
    "    return cast, genre\n"
   ]
  },
  {
   "cell_type": "code",
   "execution_count": 21,
   "id": "596afbec",
   "metadata": {},
   "outputs": [
    {
     "data": {
      "text/plain": [
       "('Deepika Padukone;Dhairya Karwa;Naseeruddin Shah;Ananya Panday;Rajat Kapoor;Siddhant Chaturvedi;Kanupriya Gupta;Shehzad Shaikh;Shataf Figar;Aarti Desai;Pavleen Gujral;Natasha Rastogi;Sunil Borkar;Ashish Singh;Neha Vyaso;Kamal Adib;Kavita Gupta;Karan Sharma Sanjeev;',\n",
       " 'Drama;Romance')"
      ]
     },
     "execution_count": 21,
     "metadata": {},
     "output_type": "execute_result"
    }
   ],
   "source": [
    "get_cast_genre('https://www.imdb.com/title/tt10733228/?ref_=fn_al_tt_1')"
   ]
  },
  {
   "cell_type": "code",
   "execution_count": 37,
   "id": "f74ff140",
   "metadata": {},
   "outputs": [],
   "source": [
    "def get_crew(movie_id):\n",
    "    crew = ''\n",
    "    crew_url = \"https://www.imdb.com/title/tt\"+movie_id+\"/fullcredits/?ref_=tt_cl_sm\"\n",
    "    hdr = {'User-Agent': 'Mozilla/5.0'}\n",
    "    req = Request(crew_url,headers=hdr)\n",
    "    page = urlopen(req)\n",
    "    soup4 = BeautifulSoup(page, 'html.parser')\n",
    "    data = soup4.find_all('td', class_='name')\n",
    "    for name in data:\n",
    "        crew += str(name.text).strip()+';'\n",
    "    return crew"
   ]
  },
  {
   "cell_type": "code",
   "execution_count": 92,
   "id": "daba6c3d",
   "metadata": {},
   "outputs": [
    {
     "name": "stdout",
     "output_type": "stream",
     "text": [
      "George Clooney;George Clooney;Grant Heslov;Robert M. Edsel;Bret Witter;George Clooney;Christoph Fisser;Barbara A. Hall;Grant Heslov;Henning Molfenter;Charlie Woebcken;Alexandre Desplat;Phedon Papamichael;Stephen Mirrione;Simone Bär;Luise Eigner;Jina Jay;Jim Bissell;Helen Jarvis;John King;Cornelia Ott;David Scheunemann;Bernhard Henrich;Louise Frogley;Morgane Bernhard;Christine Beveridge;Kay Georgiou;Andrea Gotowtschikow;Jan Kempkens-Odemski;Marilyn MacDonald;Andrea Pirchner;Waldo Sanchez;Petra Schaumann;Valeska Schitthelm;Daniela Skala;Heba Thorisdottir;Julia Baumann;Julia Böhm;Anja Daum;Anna Sophie Evenkamp;Sylvia Grave;Hanna Hackbeil;Jessica Haupt;Anna Jäger;Doreen Kindler;Isabell Kintzel;Julia Lechner;Winnie Mattheus;Grete Pfleger;Andrea Pirchner;Chris Rossa;Mareike Saß;Anne Schneider;Jenna Smith;Marie Sommer;Elise Tillmann;Sam Breckman;Gary Bunn;Barbara A. Hall;Michelle Lankwarden;Daniel Mattig;Arno Neubauer;Jason Nightingale;Jessie Thiele Schroeder;Pete Corral;Dennis Becker;Carlos Fidel;Julia Fidel;Paul Hayes;Barney Hughes;Laura Hunter;Caroline Kaempfer;Nora Lynn Kommer;Philipp Kramer;Danny McGrath;Sarah Jean Selway;David Webb;Tobias Asam;Ronny Bregulla;Andreas Hoffmann;Tommy Kreiselmaier;Terry McShane;Florian Schwombeck;Samuel A. Smith;Pablo Alza;Kevin Anthony;Oliver Arndt;Silke Bauer;Markus Bendler;Thomas Bertram;Axel Boden;Michael Bortz;Henning Brehm;André Brüggemann;Archie Campbell-Baldwin;Dominik Capodieci;Ben Collins;Rhys Court;Gary Dawson;Steve Deane;Christina Degenhardt;Jan Dunkel;Michael Düwel;Nancy Eadington;Christian Ehlert;Axel Eichhorst;Dierk Grahlow;Robin Haefs;Marcus Haendgen;Sebastian Hanusch;Wolfgang Hein;Ingeborg Heinemann;Patrick Herzberg;Tine Hoefke;Brita Hofmann;Jan Hülpüsch;Sonja Kirch;Oliver Kuhlmann;Matthias Kulewatz;Alessandro Emilio La Rocca;Michael Lieb;Chris Lowe;Solon Luigi;Marco Naumann;Benjamin Palmer;John Palmer;Richard Payne;Bora Petkova;Allen J. Polley;Joshua Polley;Peter Popken;Matthias Prange;Stephanie Rass;Lothar Riedrich;Dalia Salamah;Cindy Schnitter;Tobias Schroeter;Jochen Schuetz;Ulf Schüler;Sergej Simonenko;Ryan Sinnott;Stefan Speth;Chris Tooth;Wolfgang Wrede;Gunnar Zimmer;Yesim Zolan;Robert Balke;Ute Bergk;Katharina Boehm;James Cowley;Lars Dicht;Raphael Dilhan;Jennifer Draxlbauer;Enzo Enzel;Ute Feuerstacke;Lois Gabrin;Tom Gardner;Henri Grund;Johannes Grünberg;Katharina Hafermaas;Manuel Hess;Dimitar Hristovich;Susanna Jerger;Marko Kaiser;Michael King;Wolfram Krabiell;Ines Kramer;Johannes Maria Laboga;Liliana Lambriev;Carolin Langenbahn;Robert Makolies;Nadin Meyer;Michaela Möller;Gunter Müller;Frank Noack;Caroline Ohmert;Uli Passauer;Mitch Polley;Mark Reynolds;Friederike Roolf;Chris Rossa;Barbara Sandberg;Tim Sehling;Stefan Sellin;Markus 'Xaver' Steinberger;William Wells;Ian Whiteford;Hugo Adams;Dafydd Archard;Dillon Bennett;Luke Brown;Peter Burgis;Simon Chase;Nick Del-Molino;Mark DeSimone;Benjamin Dunker;Joshua Fielstra;Glen Gathard;James Harrison;Stephane Lioret;Richard Lovell;Paul Massey;Tim Maxwell;Thomas J. O'Connell;John Soukup;Jason Stevens;Jack Stew;Jason Swanscott;Oliver Tarney;Rachael Tate;Mark Taylor;Edward Tise;Ryan Young;Justine Baker;Peter Gleaves;Kyle D. Krajewski;Will McConnell;Michael Miller;John Rodda;Andy Stallabrass;Oskar von Unge;Max Walsh;Matilda Wylie;Uwe Arndt;Bob Ballan;Rene Barthel;Jaroslav Bucek;Markus Butkereit;Jason Chalmers;Sam Conway;Josefa Geiss;Gerry Glynn;Andreas Herberg;David Hewitt;Michael Luppino;Swen Luppino;Steph Marlot;Klaus Mielich;Gerd Nefzer;Marcus Preussing;Bernd Rautenberg;Andy Rolfe;Steven Scott;Frantisek Sloup;James Smith;Leigh Took;Mark White;Dominic Allan;Nils Bleeck;Jens Dunkel;Andre Emme;Christoph Gartlacher;Markus Geiger;Peter Haran;Till Hertrich;Thorsten Hintze;Mark Hutchinson;Jack Longmate;Endres Löber;Martin 'Marty' McLaughlin;David M. Ross;Michael Rudnik;Nick Smith;Mathias Spannagel;Lucien Stephenson;Tom Stroud;Jürgen Thiel;Thomas Thiele;Neil Toddy Todd;Zoltán Tóth;Alastair Vardy;Sebastian Venhues;Christian Wollberg;Oliver Adranghi;Kevin Ahern;Lucy Ainsworth-Taylor;Dan Alterman;Jaroslaw Ancuta;Luke Armstrong;Joe Arnold;Asregadoo Arundi;Mathieu Assemat;Henry Badgett;James Bailey;Richard Baillie;Priyanka Balasubramanian;James Ballan;Steven Barham;Angela Barson;Nick Bell;Lara Berners;Angus Bickerton;Eglantine Boinet;Philip Borg;Matt Boyer;Zaira Brilhante;Ben Brown;Rob Bryson;Naomi Butler;Lauren Camilleri;Warwick Campbell;Huseyin Caner;Simon Carr;Paul Chandler;Oli Clarke;Ross Colgan;Tom Coster;Oliver Cubbage;Matthew D'Angibau;Nicolas Darques;Erica Davidson;Rupert Davies;Robin De Lillo;Tom Debenham;Christophe Dehaene;Max Dennison;Stefan Drury;Sudip Dutta;Thomas Dyg;Maeve Eydmann;Fabian Nowak;James D. Fleming;Rachel Fowler;Ivan Girard;Azzard Gordon;John Grotelueschen;Lewis Guarniere;Alex Guri;Venetia Hadley;Steffen Hagen;Patrick Hall;Joey Harris;Dan Harrod;Robin Hinch;Vlad Holst;Bastian Hopfgarten;Louise Hutchinson;Martin Höhnle;Zave Jackson;Lorraine Johnson;Keith Jones;Uday Joshi;Vivek Joshi;Robert Junggeburt;Duncan Kinnaird;Mak Knighton;Lev Kolobov;Uma Krishnamurthy;Thirumal Kumar;Thomas Langley;Simon Leech;Miguel Macaya;Dan Mason;Daniel Matley;Lauren McCallum;Lindsay McFarlane;Marlin McGlone;Giacomo Mineo;Rafael Morant;Didier Muenza;Sven Müller;Adam Nagle;Jonathan Neill;Joan Panis;Nikolett Papp;Dominic Parker;Nikul Patel;Rachael Penfold;Christian Perschky;Victor Pillet;Mike Pope;Paula Pope;Alexandru Popescu;Christian Poullay;Tim Pounds-Cornish;Holly Price;Alexandre Prod'homme;Ramkumar Raju;Jon Reid;Renganath;Ashley Retallack;Javier Roca;David M. Ross;Simon Rowe;B.S. Rajkumar Sapate;Federico Scarbini;Jamie Schumacher;Simon Scott;Fiaz Shaikh;David Sjodin;Stephen J. Smith;Jean-David Solon;Mirek Suchomel;Vinayaga Sundar;Surendra;James Sutton;Marc Taganas;Michelle Teefey-Lee;Rick Thomson;Jithendran Thottupurath;Helder Tomas;Victor Tomi;Leigh Took;Paul Tuersley;Gert Van Dermeersch;Courtney Vanderslice;Anandan Vasudevan;Giuliano Dionisio Vigano;Cristina Vozian;Jenny Wan;Thomas Warrender;Martin Waters;Mark Webb;Julian Weiss;Kevin Wheatley;William Marshall Wilkinson;Royston Willcocks;James Worlidge;Terry Wu;Aviv Yaron;Nidhi Agarwal;Carmine Agnone;Adam Arnot;Keith Barton;Stuart Bullen;Jorge Canada Escorihuela;Ross Clark;Chad E. Collier;Neil Damman;Stanley A. Dellimore;Ben Fleming;Jacob Flint;Anna Ford;Lince Francis;Wesley Froud;Mark Fry;Amy Furey;Kai Gadd;Richard Garnish;Caroline Garrett;Nikhil Ghoorbin;Abhishek Ghorui;Jonny Gu;Andrew Harvey;Clive Haward;Sebastian Hesselsjö;Oliver Johnstone;Drew Jones;Sunil Kadam;Anna Koziol;Sujay Kumar G.;Luka Leskovsek;Sara Lynch;Francesc Macia;Suraj Makhija;Greg Malkin;Finbar Mallon;Christina Mandia;Edward Martin;Luc-Ewen Martin-Fenouillet;Károly Mesterházy;Marta Mintenko;Jambunatha Mn;Ricardo Musch;Phinnaeus O'Connor;Cenay Oekmen;Nitheesh P.C.;Bikas Panigrahi;Josh Parks;Chris Perschky;Daniel Pettipher;Emmanuel Pichereau;Andrew Pinson;Andrea Pirisi;Giorgia Pulvirenti;Maickel Quinet;Prabhakaran R.;Alessandro Righi;Roni Rodrigues;Stuart Rowbottom;Swati Shamsundar Malu;Katherine Smith;Jason Summersgill;Filip Sustek;Andrew K. Thompson;Daniel Tiller;Nick Tregenza;Arron Turnbull;Jozef van Eenbergen;Samuel John Joseph Walsh;Chris Wenting;Pat Wong;Melody Woodford;Marco Albrecht;Sandra Barger;Billy Buff;Volkhart Buff;Jan Böhme;Nicolas de Pruyssenaere;François Doge;Georg Ebinal;Jörg Ellmer;Kristoffer Fuss;Sascha Girndt;Joshua Grothe;Thomas Hacikoglu;Fred Hady;Ronny Horning;Oliver Juhrs;Stefan Langel;Bruno Montani;Mike Möller;Wolfgang Raach;Jana Reinhardt;Felix Rugor;Kim Ruhnau;Joe Toedtling;Asuka Tovazzi;Christiane Zander;Nicolas de Pruyssenaere;Sascha Girndt;Mark Henson;Florian Hotz;Alrik Kreemke;Camilla Naprous;Wolfgang Raach;Swen Raschka;Arran Topham;Asuka Tovazzi;Marlow Warrington-Mattei;Christof Assing;Claudette Barius;Robert Bartz;Anthony Benjamin;Yoshua Berkowitz;Berto;Jeremy Braben;Alessandro Brambilla;Eliot Coulter;Perry Evans;Bat Gankhuyag;Anna-Lena Haas;Dietmar Haupt;Carl Hugo Heimpel;Hans Hellner;Julian Taro Hitomi;Thomas Hübener;Alexander Jung;Karl Keil;Glenn König;Mark Laidlaw;Holger Lehnau;Sean Leonard;Iain Lowe;Sebastian Mayer;Ossa Mills;Duncan More;Dean Morris;Luc Pallet;Won-suk Park;Ricky Pattenden;Kenneth Pearson;Claire Pie;Leo Plank;Philipp Rath;Terry Richards;Lars Richter;P. Scott Sakamoto;Christian Scheibe;Florian Schwarz;Bjoern Susen;Rafael E. Sánchez;Ryan Taggart;Christian Wehrle;Jörg Widmer;Daniel Zeitler;Florian Bellack;Christian Bernutz;Steve Brooke Smith;Tilman Büttner;Joe Coffey;Laurence Edwards;Max Egner;Harry Elvin;Daniel Erb;Benjamin Frik;Christian Graf;Stephan Große;Jan Hagen;Robert Hottarek;Dennis Krombach;Younes Labdi;Oliver Larry;Martin Lieckfeld;Flow Jean Louis;Jamie Mills;Carola Rodriguez Sanchez;Christian Saalfeld;Rouven Schardt;Shirley Schumacher;Stefan Skwara;Tom Storey;Leah Striker;Charlotte Townsend;Lars Voigtländer;Oliver Ward;Gary Mau;Vanessa Baker;Olivia Brittain;Rachel Desmarest;Benedikt Gehrlein;Lena May Graf;Sally King;Alexandra Montag;Johanna Ragwitz;Jill Avery;Russell Barnett;Larissa Bechtold;John Casey;Tom Cummins;Peter De Brabander;Joe Hobbs;Steve Hyams;Billy Lawless;Tracey Millar;Lee Money;Anna Munro;Eike Neumann;James Pavlou;Kyle Reed;Julia Schell;Adrian Simmons;Alexandra Staehle;Susanne Stroh;Jeremy Turner;Carol Anne Wegner;David Werer;David Whiteing;Alice Wolfbauer;Damon Wridgway;Kyle Callanan;Regina Calvo;Paul Colford;Filiz Dana;Raphael Dilhan;Katharina Drescher;Lesley Hooper;Nigel Hyams;Tanja Jesek;Pola Kardum;Anna Klering;Katrin Kobold;Anja Lafin;Judith Neuroth;Sylka Schaedlich;Elisabeth Schmitz-Kreyenberg;Johanna Senger;Mike Skorepa;Kenn Smiley;Lisa Spengler;Rupert Steggle;Matt Adams;Ruth Antoine;Mike Austin;Andrew Dearnley;Chelsea Dinsdale;Dan Dolan;Jack Gilpatrick;Skip Kimball;Jaime Leonard;Mitch Mitchell;Tom Mitchell;Debs Richardson;Patrick J. Smith;Zoe Verrier-Stunt;Ugur Yildirim;Jim Passon;Steffen Paul;Mathias Braun;David Campbell-Bell;Piers Dunn;Tristan Hume;Rachel Hyde;Michaela Ifkovits;Sven Jenuwein;Jason Mendelli;Chris Moore;Bastian Rabe;André Schmidt;Julia Tomlinson;Volker Zobelt;Benjamin Ackermann;Pierre Eisenhut;Thomas Lauterkorn;Benno Pastewka;David Seaton;Luke Stevenson;Bashaar Wahab;Jon Alexander;Romain Allender;David Arch;Barnaby Archer;John Barrett;Jean-Pascal Beintus;Jongnic Bontemps;Tom Brown;Simon Changer;Nicolas Charron;Peter Cobbin;Alexandre Desplat;Xavier Forcioli;Mark Graham;Simon Haram;Robert Houston;Matt Jones;Dominique Lemonnier;London Symphony Orchestra;Gerard McCann;Sylvain Morizet;Nick Moss;Patrick Peronne;William Ross;Marni Sanders;Linnea Snyder;Joe Zimmerman;Peter Clarke;Alejandro de la Llosa;John Finklea;Lewis Jones;Heather Kreamer;Victor Pesavento;Daniel Pinder;Simon Rhodes;Jim Schultz;Del Spiva;Marc Stevens;Lori Wyant;Roger Abrams;Dieter Bechtloff;Darren Burgess;Ian Clarke;Florian Dieckmann;Richard Holmes;David C. Klein;Jan Kubkowski;Oliver Kueper-Grobecker;Denis Küper;Doron Levi;David Lewis;Danny Mitchell;Robert J. Napier;Dean Porter;Samuel Sharpe;Ian Smith;Charlie Sparrow;Alexander Stolle;Sean Thornton;Bernard Turner;Andre Wierschula;Michael Brinkley;Mark Cutler;Mickey Davie;Marcel De Lamotte;Britta Heimann;Daniel Huhn;James R. Kipping;Tom Kirsten;Andreas Korpel;Oliver Kujas;Cain Lee;Colin Morris;Christopher Mullen;Andrew Pitwell;Tony Power;Benjamin Reil;Andreas Schumacher;Thomas Suess;Steve Wilks;Jim Agnew;Maximilian Bachmann;David Badounts;Daren Bailey;Andreas Friedrich Bareiss;Matt Barry;Kevin Baulcomb;Dustin Baxley;Veronika Binder;David Birch;Tanya Blumstein;Peter Boothby;Hayley Buckingham;Billy Budd;Siobhan Claridy;Anika Dombrowsky;Robert M. Edsel;Ann-Marie Fitzgerald;Sabina Friedland;Micheal Gentry;Marcel Genzmer;John Gomez;Charlotte Gross;Frank Guhn;Lars Hansen;Rob Harris;Adina Herbell;Julian Taro Hitomi;Katja Hoerstmann;Richard Hooper;Kathleen Hänisch;Viktor Jakovleski;Suraya Jamac;Nicky Jarvis;Anja Karg;Jemma Kearney;Jessie Kerry;Christine Kollmar;Nora Lynn Kommer;Lena Kopsch;Sindy Krahl;Tommy Kreiselmaier;Marcel Lattke;Silvia Lindner;Steve Mansfield;Stefan Matthes;Angel McConnell;Paul Melzow;Grit Menzzer;Carla Meyer;Alex Molden;Colin J. O'Hara;Misty Oka;Tom Payton;Karsten Piel;Florian Radloff;Enrico Reinecke;Matt Rock;Mara Scherzinger;Annika Sell;Amy Smith;Philippa Sutcliffe;Bernadette Tanchauco;Charlotte Thiesies;Tobias von dem Borne;Dino von Wintersdorff;Juliane Walker;Carolin Walter;Rocco Weber;David Werer;Julia Wilson Dickson;Nadine F. Wilson;Adolf Wojtinek;Mike Woodley;Giovanni Zeqireya;Stephanie Ahlen;Michael Apling;Philip Ball;Leo Baumgartner;Joshua Bellil;Markus Bensch;Kate Berry;Elizabeth Brizzell;André Brossmann;Matthew Brown;Gero Brugmann;Unjoo Lee Byars;Kelly Kiyoon Chang;Kyle Cooper;Patrick Cullen;Peter Cummings;Mickey Davie;Thomas den Haan;Simone Dietrich;Dave Evans;Carlos Ferro;Jan Filkorn;Christian Fischer;Carla Gale;Julia Golembiowski;Nils Hasenau;Rabeah Hinrichs;Ryan Hintz;Cathleen Hoffmann;Paul Hoffmann;Stefan Hoppe;Christiana Hug;Sven Hübner;Jack Ivins;Esther Janshen;John Jones;Nessa King;Klemens Koehring;Marie Laubsch;Adam Lawrence;Uwe Lehmann;Vandin McLeod;Danny Märtin;Jenifère Nieschmidt;Stefanos Pantos;James Payton;Andreas Pense;Patrick Peters;Sintje Rosema;Karo Schnelle;Howard R. Schuster;Daniela Schwerdt;Elisa Schäfer;Ron Segro;Joss Skottowe;Anna Timm;Marina Tyndall;Mario Uy;Edward Voccola;Bernd Wildau;Eike Wolf;Lutz Zeidler;Sonja B. Zimmer;Alexander Borukhov;\n"
     ]
    }
   ],
   "source": [
    "get_crew('2177771')"
   ]
  },
  {
   "cell_type": "code",
   "execution_count": 38,
   "id": "50c7b052",
   "metadata": {},
   "outputs": [],
   "source": [
    "def get_keywords(movie_id):\n",
    "    keywords = ''\n",
    "    key_url = \"https://www.imdb.com/title/tt\"+movie_id+\"/keywords/?ref_=tt_stry_kw\"\n",
    "    hdr = {'User-Agent': 'Mozilla/5.0'}\n",
    "    req = Request(key_url,headers=hdr)\n",
    "    page = urlopen(req)\n",
    "    soup5 = BeautifulSoup(page, 'html.parser')\n",
    "    key_data = soup5.find_all('a', class_='ipc-metadata-list-summary-item__t')\n",
    "    for key in key_data:\n",
    "        keywords+=key.text+';'\n",
    "    return keywords"
   ]
  },
  {
   "cell_type": "code",
   "execution_count": 10,
   "id": "d3fb9bba",
   "metadata": {},
   "outputs": [
    {
     "name": "stdout",
     "output_type": "stream",
     "text": [
      "art;art expert;nazi stolen art;1940s;world war two;christmas;1970s;year 1977;year 1945;year 1943;year 1944;mine;map;cigarette smoking;child sniper;burning painting;stolen art;stolen gold;reference to michelangelo;plundering;british army;u.s. army;paris france;repatriation;religious object;sculpture;art archive;church;fugitive;war criminal;architecture;painting;sniper;art theft;statue;nazi germany;france;resistance;art gallery;salt mine;vandalism;looting;plunder;american abroad;actor director writer;based on true story;based on book;russian soldier;red army;u.s. soldier;\n"
     ]
    }
   ],
   "source": [
    "get_keywords('2177771')"
   ]
  },
  {
   "cell_type": "code",
   "execution_count": 68,
   "id": "8f66a72d",
   "metadata": {},
   "outputs": [],
   "source": [
    "def get_overview(movie_id):\n",
    "    overview_url = \"https://www.imdb.com/title/tt\"+movie_id+\"/plotsummary/?ref_=tt_stry_pl\"\n",
    "    hdr = {'User-Agent': 'Mozilla/5.0'}\n",
    "    req = Request(overview_url,headers=hdr)\n",
    "    page = urlopen(req)\n",
    "    soup6 = BeautifulSoup(page, 'html.parser')\n",
    "    overview_data = soup6.find_all('div', class_='ipc-html-content-inner-div')\n",
    "    ovw = overview_data[2].text.replace(' ',';')\n",
    "    return ovw\n",
    "    \n"
   ]
  },
  {
   "cell_type": "code",
   "execution_count": 69,
   "id": "1073c70e",
   "metadata": {},
   "outputs": [
    {
     "data": {
      "text/plain": [
       "\"Based;on;the;true;story;of;the;greatest;treasure;hunt;in;history,;The;Monuments;Men;is;an;action;drama;focusing;on;an;unlikely;World;War;II;platoon,;tasked;by;FDR;with;going;into;Germany;to;rescue;artistic;masterpieces;from;German;thieves;and;returning;them;to;their;rightful;owners.;It;would;be;an;impossible;mission:;with;the;art;trapped;behind;enemy;lines,;and;with;the;German;Army;under;orders;to;destroy;everything;as;the;Reich;fell,;how;could;these;guys;-;seven;museum;directors,;curators,;and;art;historians,;all;more;familiar;with;Michelangelo;than;the;M1;-;possibly;hope;to;succeed?;But;as;the;Monuments;Men,;as;they;were;called,;found;themselves;in;a;race;against;time;to;avoid;the;destruction;of;1000;years;of;culture,;they;would;risk;their;lives;to;protect;and;defend;mankind's;greatest;achievements.—Sony;Pictures;Entertainment\""
      ]
     },
     "execution_count": 69,
     "metadata": {},
     "output_type": "execute_result"
    }
   ],
   "source": [
    "get_overview('2177771')"
   ]
  },
  {
   "cell_type": "code",
   "execution_count": null,
   "id": "5fcaded9",
   "metadata": {},
   "outputs": [],
   "source": [
    "#     with open('movie_dataset_new_post2013_test', 'w', newline = '',encoding = 'UTF8') as head:\n",
    "#         header = [\"id\", \"keywords\", \"genres\", \"original_title\", \"overview\", \"cast\" , \"crew\"]\n",
    "#         writer1 = csv.writer(head)\n",
    "#         writer1.writerow(header)\n",
    "#         with open('movie_dataset_new_post2013_test', 'a+', newline = '', encoding = 'UTF8') as rows:\n",
    "#             individual_row_data = [mov_id, mov_kw, mov_gnr, mov_title, mov_ovw, mov_cast, mov_crew]\n",
    "#             writer2 = csv.writer(rows)\n",
    "#             writer2.writerow(individual_row_data)"
   ]
  },
  {
   "cell_type": "code",
   "execution_count": 48,
   "id": "3ef0805d",
   "metadata": {},
   "outputs": [],
   "source": [
    "test_titles1 = title_series[23:2500:500]\n",
    "test_titles2 = title_series[24:2500:500]\n",
    "test_titles3 = title_series[25:2500:500]\n",
    "test_titles4 = title_series[26:2500:500]\n",
    "test_titles5 = title_series[27:2500:500]"
   ]
  },
  {
   "cell_type": "code",
   "execution_count": 56,
   "id": "4c0214a6",
   "metadata": {},
   "outputs": [],
   "source": [
    "def scraper_test(test_tile_series, shared_df):\n",
    "    start_time = time.time()\n",
    "    cols = ['id' , 'keywords' , 'genres' , 'original_title' , 'overview' , 'cast' , 'crew']\n",
    "    new_df = pd.DataFrame(columns=cols)\n",
    "    for title in test_titles:\n",
    "        mov_title = title\n",
    "        movie_url, mov_id = url_extractor(title)\n",
    "        mov_cast , mov_gnr = get_cast_genre(movie_url)\n",
    "        mov_kw = get_keywords(mov_id)\n",
    "        mov_crew = get_crew(mov_id)\n",
    "        mov_ovw = get_overview(mov_id)\n",
    "        print(mov_ovw)\n",
    "#         new_row = {'id':mov_id, 'keywords': mov_kw, 'genres': mov_gnr, 'original_title': mov_title, 'overview': mov_ovw, \\\n",
    "#                    'cast': mov_cast, 'crew': mov_crew}\n",
    "        new_df.loc[len(new_df)] = [mov_id, mov_kw, mov_gnr, mov_title, mov_ovw, mov_cast, mov_crew]\n",
    "#         new_df = pd.concat([new_df, new_row])\n",
    "    shared_df.append(temp_df, ignore_index = True)\n",
    "    end_time = time.time()\n",
    "    time_taken = end_time - start_time\n",
    "    print(f\"Time taken: {time_taken} seconds\")"
   ]
  },
  {
   "cell_type": "code",
   "execution_count": 59,
   "id": "252584d0",
   "metadata": {},
   "outputs": [],
   "source": [
    "def main():\n",
    "    # Create a Manager object\n",
    "    with Manager() as manager:\n",
    "        shared_df = manager.list()\n",
    "        arguments = [test_titles1, test_titles2, test_titles3, test_titles4, test_titles5]\n",
    "        processes = []\n",
    "\n",
    "        # Create and start a process for each instance\n",
    "        for arg in arguments:\n",
    "            process = Process(target=scraper_test, args=(arg, shared_df))\n",
    "            processes.append(process)\n",
    "            process.start()\n",
    "\n",
    "        # Wait for all processes to complete\n",
    "        for process in processes:\n",
    "            process.join()\n",
    "\n",
    "        # Convert the list of DataFrames to a single DataFrame\n",
    "        final_df = pd.concat(shared_df, ignore_index=True)\n",
    "        print(final_df)\n"
   ]
  },
  {
   "cell_type": "code",
   "execution_count": 60,
   "id": "7488c9c8",
   "metadata": {},
   "outputs": [
    {
     "ename": "ValueError",
     "evalue": "No objects to concatenate",
     "output_type": "error",
     "traceback": [
      "\u001b[1;31m---------------------------------------------------------------------------\u001b[0m",
      "\u001b[1;31mValueError\u001b[0m                                Traceback (most recent call last)",
      "Cell \u001b[1;32mIn[60], line 2\u001b[0m\n\u001b[0;32m      1\u001b[0m \u001b[38;5;28;01mif\u001b[39;00m \u001b[38;5;18m__name__\u001b[39m \u001b[38;5;241m==\u001b[39m \u001b[38;5;124m'\u001b[39m\u001b[38;5;124m__main__\u001b[39m\u001b[38;5;124m'\u001b[39m:\n\u001b[1;32m----> 2\u001b[0m     main()\n",
      "Cell \u001b[1;32mIn[59], line 19\u001b[0m, in \u001b[0;36mmain\u001b[1;34m()\u001b[0m\n\u001b[0;32m     16\u001b[0m     process\u001b[38;5;241m.\u001b[39mjoin()\n\u001b[0;32m     18\u001b[0m \u001b[38;5;66;03m# Convert the list of DataFrames to a single DataFrame\u001b[39;00m\n\u001b[1;32m---> 19\u001b[0m final_df \u001b[38;5;241m=\u001b[39m pd\u001b[38;5;241m.\u001b[39mconcat(shared_df, ignore_index\u001b[38;5;241m=\u001b[39m\u001b[38;5;28;01mTrue\u001b[39;00m)\n\u001b[0;32m     20\u001b[0m \u001b[38;5;28mprint\u001b[39m(final_df)\n",
      "File \u001b[1;32m~\\anaconda3\\Lib\\site-packages\\pandas\\core\\reshape\\concat.py:372\u001b[0m, in \u001b[0;36mconcat\u001b[1;34m(objs, axis, join, ignore_index, keys, levels, names, verify_integrity, sort, copy)\u001b[0m\n\u001b[0;32m    369\u001b[0m \u001b[38;5;28;01melif\u001b[39;00m copy \u001b[38;5;129;01mand\u001b[39;00m using_copy_on_write():\n\u001b[0;32m    370\u001b[0m     copy \u001b[38;5;241m=\u001b[39m \u001b[38;5;28;01mFalse\u001b[39;00m\n\u001b[1;32m--> 372\u001b[0m op \u001b[38;5;241m=\u001b[39m _Concatenator(\n\u001b[0;32m    373\u001b[0m     objs,\n\u001b[0;32m    374\u001b[0m     axis\u001b[38;5;241m=\u001b[39maxis,\n\u001b[0;32m    375\u001b[0m     ignore_index\u001b[38;5;241m=\u001b[39mignore_index,\n\u001b[0;32m    376\u001b[0m     join\u001b[38;5;241m=\u001b[39mjoin,\n\u001b[0;32m    377\u001b[0m     keys\u001b[38;5;241m=\u001b[39mkeys,\n\u001b[0;32m    378\u001b[0m     levels\u001b[38;5;241m=\u001b[39mlevels,\n\u001b[0;32m    379\u001b[0m     names\u001b[38;5;241m=\u001b[39mnames,\n\u001b[0;32m    380\u001b[0m     verify_integrity\u001b[38;5;241m=\u001b[39mverify_integrity,\n\u001b[0;32m    381\u001b[0m     copy\u001b[38;5;241m=\u001b[39mcopy,\n\u001b[0;32m    382\u001b[0m     sort\u001b[38;5;241m=\u001b[39msort,\n\u001b[0;32m    383\u001b[0m )\n\u001b[0;32m    385\u001b[0m \u001b[38;5;28;01mreturn\u001b[39;00m op\u001b[38;5;241m.\u001b[39mget_result()\n",
      "File \u001b[1;32m~\\anaconda3\\Lib\\site-packages\\pandas\\core\\reshape\\concat.py:429\u001b[0m, in \u001b[0;36m_Concatenator.__init__\u001b[1;34m(self, objs, axis, join, keys, levels, names, ignore_index, verify_integrity, copy, sort)\u001b[0m\n\u001b[0;32m    426\u001b[0m     objs \u001b[38;5;241m=\u001b[39m \u001b[38;5;28mlist\u001b[39m(objs)\n\u001b[0;32m    428\u001b[0m \u001b[38;5;28;01mif\u001b[39;00m \u001b[38;5;28mlen\u001b[39m(objs) \u001b[38;5;241m==\u001b[39m \u001b[38;5;241m0\u001b[39m:\n\u001b[1;32m--> 429\u001b[0m     \u001b[38;5;28;01mraise\u001b[39;00m \u001b[38;5;167;01mValueError\u001b[39;00m(\u001b[38;5;124m\"\u001b[39m\u001b[38;5;124mNo objects to concatenate\u001b[39m\u001b[38;5;124m\"\u001b[39m)\n\u001b[0;32m    431\u001b[0m \u001b[38;5;28;01mif\u001b[39;00m keys \u001b[38;5;129;01mis\u001b[39;00m \u001b[38;5;28;01mNone\u001b[39;00m:\n\u001b[0;32m    432\u001b[0m     objs \u001b[38;5;241m=\u001b[39m \u001b[38;5;28mlist\u001b[39m(com\u001b[38;5;241m.\u001b[39mnot_none(\u001b[38;5;241m*\u001b[39mobjs))\n",
      "\u001b[1;31mValueError\u001b[0m: No objects to concatenate"
     ]
    }
   ],
   "source": [
    "if __name__ == '__main__':\n",
    "    main()"
   ]
  },
  {
   "cell_type": "code",
   "execution_count": null,
   "id": "f9fe90ae",
   "metadata": {},
   "outputs": [],
   "source": []
  }
 ],
 "metadata": {
  "kernelspec": {
   "display_name": "Python 3 (ipykernel)",
   "language": "python",
   "name": "python3"
  },
  "language_info": {
   "codemirror_mode": {
    "name": "ipython",
    "version": 3
   },
   "file_extension": ".py",
   "mimetype": "text/x-python",
   "name": "python",
   "nbconvert_exporter": "python",
   "pygments_lexer": "ipython3",
   "version": "3.11.5"
  }
 },
 "nbformat": 4,
 "nbformat_minor": 5
}
