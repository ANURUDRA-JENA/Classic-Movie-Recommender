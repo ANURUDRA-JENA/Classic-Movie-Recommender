{
 "cells": [
  {
   "cell_type": "code",
   "execution_count": 2,
   "id": "c6b86e1e",
   "metadata": {},
   "outputs": [],
   "source": [
    "import pandas as pd\n",
    "mov_raw = pd.read_excel(r\"C:\\Users\\aniru\\OneDrive\\Documents\\SRC\\SRC 4\\All_movies_2013-2023.xlsx\")\n",
    "title_series = pd.Series(mov_raw.loc[:,'TITLE'])\n",
    "test_titles1 = title_series[2524:5000:500]\n",
    "test_titles2 = title_series[2525:5000:500]\n",
    "test_titles3 = title_series[2526:5000:500]\n",
    "test_titles4 = title_series[2527:5000:500]\n",
    "test_titles5 = title_series[2528:5000:500]"
   ]
  },
  {
   "cell_type": "code",
   "execution_count": 6,
   "id": "145e3483",
   "metadata": {},
   "outputs": [
    {
     "name": "stdout",
     "output_type": "stream",
     "text": [
      "True\n"
     ]
    }
   ],
   "source": [
    " "
   ]
  }
 ],
 "metadata": {
  "kernelspec": {
   "display_name": "Python 3 (ipykernel)",
   "language": "python",
   "name": "python3"
  },
  "language_info": {
   "codemirror_mode": {
    "name": "ipython",
    "version": 3
   },
   "file_extension": ".py",
   "mimetype": "text/x-python",
   "name": "python",
   "nbconvert_exporter": "python",
   "pygments_lexer": "ipython3",
   "version": "3.11.5"
  }
 },
 "nbformat": 4,
 "nbformat_minor": 5
}
