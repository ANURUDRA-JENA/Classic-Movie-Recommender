{
 "cells": [
  {
   "cell_type": "markdown",
   "id": "baf46ee1",
   "metadata": {},
   "source": [
    "# Movie Recommender I"
   ]
  },
  {
   "cell_type": "markdown",
   "id": "6e79b09f",
   "metadata": {},
   "source": [
    "## Plan Walkthrough\n",
    "\n",
    "We have the IMDB Dataset movie dataset consisting of movie_metadata, ratings, links, keywords and credits.\n",
    "And as per my planning, I'll be using features such as genre, keywords, overview, cast and crew to relate\n",
    "movies of my choice and recommend movies with respect to that. All of these information can be found within\n",
    "the IMDB review page for any specific movie. My initial plan was to also include reviews but reviews can be\n",
    "polarizing frm person to person and might create conflict in the decision factor of the LSTM algorithm that\n",
    "I'm gonna use. So I'll be merging all the different datasets and processing, wrangling and extracting only\n",
    "the required features from them. That's the first part of data processing which will result in having movie\n",
    "information from the year 1984 to 2013.\n",
    "\n",
    "Here comes the 2nd part, where I wished to get watchable, newer movies for which I need new and latest data.\n",
    "So I scraped the movie titles from the year 2013-2023 from Wikipedia(forgot they had an API), then I scraped\n",
    "the necessary features (genre, keywords, overview, etc) for all the new movie titles from IMDB's own website.\n",
    "The source code for the scraper has been uploaded in the github, make sure to check that out. I had to utilize\n",
    "Python packages like Multiprocessing & Pooling to run my program and produce the scraped data in batches. \n",
    "Multi-threading would have been faster for read-write process,but my program had to open 4 links and scrape\n",
    "data for individual movies which was not efficient at all; I know, right. In short I was scraping movie info\n",
    "one at a time and appending that to a shared memory pool whcich was being converted to a dataframe and then\n",
    "producing the batch out-put as a CSV file.\n",
    "\n",
    "In the 3rd part, I tried to clean and process the data, and since I knew what features I'll be requiring, I\n",
    "only collected those features, so no feature additions. With that being done, I had two datasets which I am\n",
    "cleaning and processing below. Once that is done, I'll be using the LSTM algorithm to generate recommendations."
   ]
  },
  {
   "cell_type": "markdown",
   "id": "2e3f634c",
   "metadata": {},
   "source": [
    "## Part-1 And Part-3\n",
    "\n",
    "As mentioned above, the part-1 and part-3 of my entire plan has been done below.\n",
    "After I test the results, I will the taking the code to a python program based\n",
    "environment and making a fully functional program out of it which will help avoid\n",
    "the clutter that we're facing in the notebook environment."
   ]
  },
  {
   "cell_type": "markdown",
   "id": "ed9f0491",
   "metadata": {},
   "source": [
    "## Processing the IMDB dataset:"
   ]
  },
  {
   "cell_type": "code",
   "execution_count": 1,
   "id": "c6b86e1e",
   "metadata": {},
   "outputs": [],
   "source": [
    "import numpy as np\n",
    "import pandas as pd\n",
    "import matplotlib.pyplot as plt"
   ]
  },
  {
   "cell_type": "markdown",
   "id": "65761a65",
   "metadata": {},
   "source": [
    "Trying to collect the new batch-wise movie dataset and merge them."
   ]
  },
  {
   "cell_type": "code",
   "execution_count": 2,
   "id": "e9269e19",
   "metadata": {},
   "outputs": [],
   "source": [
    "df_batch1 = pd.read_csv(r\"C:\\Users\\aniru\\OneDrive\\Documents\\SRC\\SRC 4\\Movie recc\\batch1.csv\")\n",
    "df_batch2 = pd.read_csv(r\"C:\\Users\\aniru\\OneDrive\\Documents\\SRC\\SRC 4\\Movie recc\\batch1.csv\")\n",
    "df_batch3 = pd.read_csv(r\"C:\\Users\\aniru\\OneDrive\\Documents\\SRC\\SRC 4\\Movie recc\\batch1.csv\")"
   ]
  },
  {
   "cell_type": "code",
   "execution_count": 3,
   "id": "b4ba8e7b",
   "metadata": {},
   "outputs": [],
   "source": [
    "merged_raw_df = pd.concat([df_batch1, df_batch2, df_batch3], axis = 0, ignore_index = True)"
   ]
  },
  {
   "cell_type": "code",
   "execution_count": 4,
   "id": "85b469ce",
   "metadata": {
    "scrolled": true
   },
   "outputs": [
    {
     "data": {
      "text/html": [
       "<div>\n",
       "<style scoped>\n",
       "    .dataframe tbody tr th:only-of-type {\n",
       "        vertical-align: middle;\n",
       "    }\n",
       "\n",
       "    .dataframe tbody tr th {\n",
       "        vertical-align: top;\n",
       "    }\n",
       "\n",
       "    .dataframe thead th {\n",
       "        text-align: right;\n",
       "    }\n",
       "</style>\n",
       "<table border=\"1\" class=\"dataframe\">\n",
       "  <thead>\n",
       "    <tr style=\"text-align: right;\">\n",
       "      <th></th>\n",
       "      <th>id</th>\n",
       "      <th>keywords</th>\n",
       "      <th>genres</th>\n",
       "      <th>original_title</th>\n",
       "      <th>overview</th>\n",
       "      <th>cast</th>\n",
       "      <th>crew</th>\n",
       "    </tr>\n",
       "  </thead>\n",
       "  <tbody>\n",
       "    <tr>\n",
       "      <th>0</th>\n",
       "      <td>3829920</td>\n",
       "      <td>helicopter;wildfire;baby;firefighter;forest fi...</td>\n",
       "      <td>Disaster;Action;Biography;Drama</td>\n",
       "      <td>Only%20the%20Brave</td>\n",
       "      <td>In;2007;Prescott,;Arizona,;Eric;Marsh;of;the;P...</td>\n",
       "      <td>Josh Brolin;Miles Teller;Jeff Bridges;Jennifer...</td>\n",
       "      <td>Joseph Kosinski;Sean Flynn;Ken Nolan;Eric Warr...</td>\n",
       "    </tr>\n",
       "    <tr>\n",
       "      <th>1</th>\n",
       "      <td>1758810</td>\n",
       "      <td>snow;police investigation;serial killer;promis...</td>\n",
       "      <td>Serial Killer;Crime;Drama;Mystery;Thriller</td>\n",
       "      <td>The%20Snowman</td>\n",
       "      <td>When;an;elite;crime;squad's;lead;detective;inv...</td>\n",
       "      <td>Michael Fassbender;Rebecca Ferguson;Charlotte ...</td>\n",
       "      <td>Tomas Alfredson;Jo Nesbø;Peter Straughan;Hosse...</td>\n",
       "    </tr>\n",
       "    <tr>\n",
       "      <th>2</th>\n",
       "      <td>6217804</td>\n",
       "      <td>sequel;second part;directed by star;rhyme in t...</td>\n",
       "      <td>Comedy;Drama;Horror;Mystery</td>\n",
       "      <td>Boo%202!%20A%20Madea%20Halloween</td>\n",
       "      <td>The;film;opens;after;school;on;Tiffany's;18th;...</td>\n",
       "      <td>Tyler Perry;Cassi Davis;Patrice Lovely;Yousef ...</td>\n",
       "      <td>Tyler Perry;Tyler Perry;Brian Schulman;Ozzie A...</td>\n",
       "    </tr>\n",
       "    <tr>\n",
       "      <th>3</th>\n",
       "      <td>1230168</td>\n",
       "      <td>homeless man;friendship;kindness;husband wife ...</td>\n",
       "      <td>Biography;Drama</td>\n",
       "      <td>Same%20Kind%20of%20Different%20as%20Me</td>\n",
       "      <td>Ron;Hall;(Greg;Kinnear);lost;track;of;what;mat...</td>\n",
       "      <td>Greg Kinnear;Renée Zellweger;Djimon Hounsou;Jo...</td>\n",
       "      <td>Michael Carney;Ron Hall;Denver Moore;Lynn Vinc...</td>\n",
       "    </tr>\n",
       "    <tr>\n",
       "      <th>4</th>\n",
       "      <td>2620590</td>\n",
       "      <td>texas;chainsaw;nurse;barn;sheriff;violence;ori...</td>\n",
       "      <td>Serial Killer;Slasher Horror;Teen Horror;Crime...</td>\n",
       "      <td>Leatherface</td>\n",
       "      <td>A;violent;teen;and;three;others;kidnap;a;young...</td>\n",
       "      <td>Stephen Dorff;Lili Taylor;Sam Strike;Vanessa G...</td>\n",
       "      <td>Alexandre Bustillo;Julien Maury;Seth M. Sherwo...</td>\n",
       "    </tr>\n",
       "  </tbody>\n",
       "</table>\n",
       "</div>"
      ],
      "text/plain": [
       "        id                                           keywords  \\\n",
       "0  3829920  helicopter;wildfire;baby;firefighter;forest fi...   \n",
       "1  1758810  snow;police investigation;serial killer;promis...   \n",
       "2  6217804  sequel;second part;directed by star;rhyme in t...   \n",
       "3  1230168  homeless man;friendship;kindness;husband wife ...   \n",
       "4  2620590  texas;chainsaw;nurse;barn;sheriff;violence;ori...   \n",
       "\n",
       "                                              genres  \\\n",
       "0                    Disaster;Action;Biography;Drama   \n",
       "1         Serial Killer;Crime;Drama;Mystery;Thriller   \n",
       "2                        Comedy;Drama;Horror;Mystery   \n",
       "3                                    Biography;Drama   \n",
       "4  Serial Killer;Slasher Horror;Teen Horror;Crime...   \n",
       "\n",
       "                           original_title  \\\n",
       "0                      Only%20the%20Brave   \n",
       "1                           The%20Snowman   \n",
       "2        Boo%202!%20A%20Madea%20Halloween   \n",
       "3  Same%20Kind%20of%20Different%20as%20Me   \n",
       "4                             Leatherface   \n",
       "\n",
       "                                            overview  \\\n",
       "0  In;2007;Prescott,;Arizona,;Eric;Marsh;of;the;P...   \n",
       "1  When;an;elite;crime;squad's;lead;detective;inv...   \n",
       "2  The;film;opens;after;school;on;Tiffany's;18th;...   \n",
       "3  Ron;Hall;(Greg;Kinnear);lost;track;of;what;mat...   \n",
       "4  A;violent;teen;and;three;others;kidnap;a;young...   \n",
       "\n",
       "                                                cast  \\\n",
       "0  Josh Brolin;Miles Teller;Jeff Bridges;Jennifer...   \n",
       "1  Michael Fassbender;Rebecca Ferguson;Charlotte ...   \n",
       "2  Tyler Perry;Cassi Davis;Patrice Lovely;Yousef ...   \n",
       "3  Greg Kinnear;Renée Zellweger;Djimon Hounsou;Jo...   \n",
       "4  Stephen Dorff;Lili Taylor;Sam Strike;Vanessa G...   \n",
       "\n",
       "                                                crew  \n",
       "0  Joseph Kosinski;Sean Flynn;Ken Nolan;Eric Warr...  \n",
       "1  Tomas Alfredson;Jo Nesbø;Peter Straughan;Hosse...  \n",
       "2  Tyler Perry;Tyler Perry;Brian Schulman;Ozzie A...  \n",
       "3  Michael Carney;Ron Hall;Denver Moore;Lynn Vinc...  \n",
       "4  Alexandre Bustillo;Julien Maury;Seth M. Sherwo...  "
      ]
     },
     "execution_count": 4,
     "metadata": {},
     "output_type": "execute_result"
    }
   ],
   "source": [
    "merged_raw_df.head()"
   ]
  },
  {
   "cell_type": "code",
   "execution_count": 5,
   "id": "f75a6a66",
   "metadata": {},
   "outputs": [],
   "source": [
    "merged_raw_df['original_title'] = merged_raw_df['original_title'].apply(lambda x: x.strip().replace('%20',' '))"
   ]
  },
  {
   "cell_type": "markdown",
   "id": "d012e5b8",
   "metadata": {},
   "source": [
    "Now, starting with processing the IMDB dataset along with extracting features "
   ]
  },
  {
   "cell_type": "code",
   "execution_count": 7,
   "id": "520b1378",
   "metadata": {},
   "outputs": [],
   "source": [
    "metadata_raw_2 = pd.read_excel(r\"C:\\Users\\aniru\\OneDrive\\Documents\\SRC\\SRC 4\\Movie recc\\Merged metadata new.xlsx\")"
   ]
  },
  {
   "cell_type": "code",
   "execution_count": 8,
   "id": "c80c1de8",
   "metadata": {},
   "outputs": [],
   "source": [
    "rating_raw = pd.read_csv(r\"C:\\Users\\aniru\\OneDrive\\Documents\\SRC\\SRC 4\\Movie recc\\ratings.csv\")"
   ]
  },
  {
   "cell_type": "code",
   "execution_count": 9,
   "id": "851d9e92",
   "metadata": {},
   "outputs": [],
   "source": [
    "metadata_raw = pd.read_excel(r\"C:\\Users\\aniru\\OneDrive\\Documents\\SRC\\SRC 4\\Movie recc\\movies_metadata_xls.xlsx\")"
   ]
  },
  {
   "cell_type": "code",
   "execution_count": 14,
   "id": "eac67b7f",
   "metadata": {},
   "outputs": [],
   "source": [
    "metadata_raw = metadata_raw[(metadata_raw['original_language'] == 'en') | (metadata_raw['original_language'] == 'hi')]"
   ]
  },
  {
   "cell_type": "code",
   "execution_count": 16,
   "id": "e36e6126",
   "metadata": {},
   "outputs": [
    {
     "data": {
      "text/html": [
       "<div>\n",
       "<style scoped>\n",
       "    .dataframe tbody tr th:only-of-type {\n",
       "        vertical-align: middle;\n",
       "    }\n",
       "\n",
       "    .dataframe tbody tr th {\n",
       "        vertical-align: top;\n",
       "    }\n",
       "\n",
       "    .dataframe thead th {\n",
       "        text-align: right;\n",
       "    }\n",
       "</style>\n",
       "<table border=\"1\" class=\"dataframe\">\n",
       "  <thead>\n",
       "    <tr style=\"text-align: right;\">\n",
       "      <th></th>\n",
       "      <th>cast</th>\n",
       "      <th>crew</th>\n",
       "      <th>id</th>\n",
       "    </tr>\n",
       "  </thead>\n",
       "  <tbody>\n",
       "    <tr>\n",
       "      <th>0</th>\n",
       "      <td>[{'cast_id': 14, 'character': 'Woody (voice)',...</td>\n",
       "      <td>[{'credit_id': '52fe4284c3a36847f8024f49', 'de...</td>\n",
       "      <td>862</td>\n",
       "    </tr>\n",
       "    <tr>\n",
       "      <th>1</th>\n",
       "      <td>[{'cast_id': 1, 'character': 'Alan Parrish', '...</td>\n",
       "      <td>[{'credit_id': '52fe44bfc3a36847f80a7cd1', 'de...</td>\n",
       "      <td>8844</td>\n",
       "    </tr>\n",
       "    <tr>\n",
       "      <th>2</th>\n",
       "      <td>[{'cast_id': 2, 'character': 'Max Goldman', 'c...</td>\n",
       "      <td>[{'credit_id': '52fe466a9251416c75077a89', 'de...</td>\n",
       "      <td>15602</td>\n",
       "    </tr>\n",
       "    <tr>\n",
       "      <th>3</th>\n",
       "      <td>[{'cast_id': 1, 'character': \"Savannah 'Vannah...</td>\n",
       "      <td>[{'credit_id': '52fe44779251416c91011acb', 'de...</td>\n",
       "      <td>31357</td>\n",
       "    </tr>\n",
       "    <tr>\n",
       "      <th>4</th>\n",
       "      <td>[{'cast_id': 1, 'character': 'George Banks', '...</td>\n",
       "      <td>[{'credit_id': '52fe44959251416c75039ed7', 'de...</td>\n",
       "      <td>11862</td>\n",
       "    </tr>\n",
       "  </tbody>\n",
       "</table>\n",
       "</div>"
      ],
      "text/plain": [
       "                                                cast  \\\n",
       "0  [{'cast_id': 14, 'character': 'Woody (voice)',...   \n",
       "1  [{'cast_id': 1, 'character': 'Alan Parrish', '...   \n",
       "2  [{'cast_id': 2, 'character': 'Max Goldman', 'c...   \n",
       "3  [{'cast_id': 1, 'character': \"Savannah 'Vannah...   \n",
       "4  [{'cast_id': 1, 'character': 'George Banks', '...   \n",
       "\n",
       "                                                crew     id  \n",
       "0  [{'credit_id': '52fe4284c3a36847f8024f49', 'de...    862  \n",
       "1  [{'credit_id': '52fe44bfc3a36847f80a7cd1', 'de...   8844  \n",
       "2  [{'credit_id': '52fe466a9251416c75077a89', 'de...  15602  \n",
       "3  [{'credit_id': '52fe44779251416c91011acb', 'de...  31357  \n",
       "4  [{'credit_id': '52fe44959251416c75039ed7', 'de...  11862  "
      ]
     },
     "execution_count": 16,
     "metadata": {},
     "output_type": "execute_result"
    }
   ],
   "source": [
    "credits_raw = pd.read_csv(r\"C:\\Users\\aniru\\OneDrive\\Documents\\SRC\\SRC 4\\Movie recc\\credits.csv\")\n",
    "credits_raw.head()"
   ]
  },
  {
   "cell_type": "code",
   "execution_count": 17,
   "id": "2af97a31",
   "metadata": {},
   "outputs": [
    {
     "data": {
      "text/html": [
       "<div>\n",
       "<style scoped>\n",
       "    .dataframe tbody tr th:only-of-type {\n",
       "        vertical-align: middle;\n",
       "    }\n",
       "\n",
       "    .dataframe tbody tr th {\n",
       "        vertical-align: top;\n",
       "    }\n",
       "\n",
       "    .dataframe thead th {\n",
       "        text-align: right;\n",
       "    }\n",
       "</style>\n",
       "<table border=\"1\" class=\"dataframe\">\n",
       "  <thead>\n",
       "    <tr style=\"text-align: right;\">\n",
       "      <th></th>\n",
       "      <th>id</th>\n",
       "      <th>keywords</th>\n",
       "    </tr>\n",
       "  </thead>\n",
       "  <tbody>\n",
       "    <tr>\n",
       "      <th>0</th>\n",
       "      <td>862</td>\n",
       "      <td>[{'id': 931, 'name': 'jealousy'}, {'id': 4290,...</td>\n",
       "    </tr>\n",
       "    <tr>\n",
       "      <th>1</th>\n",
       "      <td>8844</td>\n",
       "      <td>[{'id': 10090, 'name': 'board game'}, {'id': 1...</td>\n",
       "    </tr>\n",
       "    <tr>\n",
       "      <th>2</th>\n",
       "      <td>15602</td>\n",
       "      <td>[{'id': 1495, 'name': 'fishing'}, {'id': 12392...</td>\n",
       "    </tr>\n",
       "    <tr>\n",
       "      <th>3</th>\n",
       "      <td>31357</td>\n",
       "      <td>[{'id': 818, 'name': 'based on novel'}, {'id':...</td>\n",
       "    </tr>\n",
       "    <tr>\n",
       "      <th>4</th>\n",
       "      <td>11862</td>\n",
       "      <td>[{'id': 1009, 'name': 'baby'}, {'id': 1599, 'n...</td>\n",
       "    </tr>\n",
       "  </tbody>\n",
       "</table>\n",
       "</div>"
      ],
      "text/plain": [
       "      id                                           keywords\n",
       "0    862  [{'id': 931, 'name': 'jealousy'}, {'id': 4290,...\n",
       "1   8844  [{'id': 10090, 'name': 'board game'}, {'id': 1...\n",
       "2  15602  [{'id': 1495, 'name': 'fishing'}, {'id': 12392...\n",
       "3  31357  [{'id': 818, 'name': 'based on novel'}, {'id':...\n",
       "4  11862  [{'id': 1009, 'name': 'baby'}, {'id': 1599, 'n..."
      ]
     },
     "execution_count": 17,
     "metadata": {},
     "output_type": "execute_result"
    }
   ],
   "source": [
    "keywords_raw = pd.read_csv(r\"C:\\Users\\aniru\\OneDrive\\Documents\\SRC\\SRC 4\\Movie recc\\keywords.csv\")\n",
    "keywords_raw.head()"
   ]
  },
  {
   "cell_type": "code",
   "execution_count": 18,
   "id": "200c77c4",
   "metadata": {},
   "outputs": [
    {
     "data": {
      "text/html": [
       "<div>\n",
       "<style scoped>\n",
       "    .dataframe tbody tr th:only-of-type {\n",
       "        vertical-align: middle;\n",
       "    }\n",
       "\n",
       "    .dataframe tbody tr th {\n",
       "        vertical-align: top;\n",
       "    }\n",
       "\n",
       "    .dataframe thead th {\n",
       "        text-align: right;\n",
       "    }\n",
       "</style>\n",
       "<table border=\"1\" class=\"dataframe\">\n",
       "  <thead>\n",
       "    <tr style=\"text-align: right;\">\n",
       "      <th></th>\n",
       "      <th>movieId</th>\n",
       "      <th>imdbId</th>\n",
       "      <th>tmdbId</th>\n",
       "    </tr>\n",
       "  </thead>\n",
       "  <tbody>\n",
       "    <tr>\n",
       "      <th>0</th>\n",
       "      <td>1</td>\n",
       "      <td>114709</td>\n",
       "      <td>862.0</td>\n",
       "    </tr>\n",
       "    <tr>\n",
       "      <th>1</th>\n",
       "      <td>2</td>\n",
       "      <td>113497</td>\n",
       "      <td>8844.0</td>\n",
       "    </tr>\n",
       "    <tr>\n",
       "      <th>2</th>\n",
       "      <td>3</td>\n",
       "      <td>113228</td>\n",
       "      <td>15602.0</td>\n",
       "    </tr>\n",
       "    <tr>\n",
       "      <th>3</th>\n",
       "      <td>4</td>\n",
       "      <td>114885</td>\n",
       "      <td>31357.0</td>\n",
       "    </tr>\n",
       "    <tr>\n",
       "      <th>4</th>\n",
       "      <td>5</td>\n",
       "      <td>113041</td>\n",
       "      <td>11862.0</td>\n",
       "    </tr>\n",
       "  </tbody>\n",
       "</table>\n",
       "</div>"
      ],
      "text/plain": [
       "   movieId  imdbId   tmdbId\n",
       "0        1  114709    862.0\n",
       "1        2  113497   8844.0\n",
       "2        3  113228  15602.0\n",
       "3        4  114885  31357.0\n",
       "4        5  113041  11862.0"
      ]
     },
     "execution_count": 18,
     "metadata": {},
     "output_type": "execute_result"
    }
   ],
   "source": [
    "links_raw = pd.read_csv(r\"C:\\Users\\aniru\\OneDrive\\Documents\\SRC\\SRC 4\\Movie recc\\links.csv\")\n",
    "links_raw.head()"
   ]
  },
  {
   "cell_type": "code",
   "execution_count": 19,
   "id": "f9e66bd7",
   "metadata": {},
   "outputs": [
    {
     "name": "stdout",
     "output_type": "stream",
     "text": [
      "(32777, 5)\n"
     ]
    }
   ],
   "source": [
    "metadata_raw = metadata_raw[['id','genres','original_title','overview','production_companies']]   \n",
    "#selecting required colomns from tables\n",
    "credits_raw = credits_raw[['id','cast','crew']]\n",
    "keywords_raw = keywords_raw[['id','keywords']]\n",
    "print(metadata_raw.shape)"
   ]
  },
  {
   "cell_type": "code",
   "execution_count": 20,
   "id": "1e354048",
   "metadata": {},
   "outputs": [
    {
     "data": {
      "text/plain": [
       "id                       0\n",
       "genres                   0\n",
       "original_title           0\n",
       "overview                71\n",
       "production_companies     2\n",
       "dtype: int64"
      ]
     },
     "execution_count": 20,
     "metadata": {},
     "output_type": "execute_result"
    }
   ],
   "source": [
    "metadata_raw.isnull().sum()       "
   ]
  },
  {
   "cell_type": "code",
   "execution_count": 21,
   "id": "b9022d6c",
   "metadata": {},
   "outputs": [
    {
     "data": {
      "text/plain": [
       "id                  0\n",
       "keywords          167\n",
       "genres             78\n",
       "original_title     70\n",
       "overview           70\n",
       "cast              159\n",
       "crew               79\n",
       "dtype: int64"
      ]
     },
     "execution_count": 21,
     "metadata": {},
     "output_type": "execute_result"
    }
   ],
   "source": [
    "metadata_raw_2.isnull().sum()       "
   ]
  },
  {
   "cell_type": "code",
   "execution_count": 22,
   "id": "27fe0691",
   "metadata": {},
   "outputs": [
    {
     "data": {
      "text/plain": [
       "id      0\n",
       "cast    0\n",
       "crew    0\n",
       "dtype: int64"
      ]
     },
     "execution_count": 22,
     "metadata": {},
     "output_type": "execute_result"
    }
   ],
   "source": [
    "credits_raw.isnull().sum()"
   ]
  },
  {
   "cell_type": "code",
   "execution_count": 23,
   "id": "aa4ae2c3",
   "metadata": {},
   "outputs": [
    {
     "data": {
      "text/plain": [
       "id          0\n",
       "keywords    0\n",
       "dtype: int64"
      ]
     },
     "execution_count": 23,
     "metadata": {},
     "output_type": "execute_result"
    }
   ],
   "source": [
    "keywords_raw.isnull().sum()"
   ]
  },
  {
   "cell_type": "code",
   "execution_count": 24,
   "id": "024af3c7",
   "metadata": {},
   "outputs": [],
   "source": [
    "metadata_raw.loc[:,'id'] = metadata_raw.loc[:,'id'].fillna(0)\n",
    "metadata_raw.loc[:,'id']=pd.to_numeric(metadata_raw.loc[:,'id']).astype('Int64')\n",
    "merged_data = keywords_raw.merge(metadata_raw, on = 'id')\n",
    "merged_data = merged_data.merge(credits_raw, on = 'id')"
   ]
  },
  {
   "cell_type": "code",
   "execution_count": 25,
   "id": "2bbd036c",
   "metadata": {
    "scrolled": true
   },
   "outputs": [
    {
     "data": {
      "text/html": [
       "<div>\n",
       "<style scoped>\n",
       "    .dataframe tbody tr th:only-of-type {\n",
       "        vertical-align: middle;\n",
       "    }\n",
       "\n",
       "    .dataframe tbody tr th {\n",
       "        vertical-align: top;\n",
       "    }\n",
       "\n",
       "    .dataframe thead th {\n",
       "        text-align: right;\n",
       "    }\n",
       "</style>\n",
       "<table border=\"1\" class=\"dataframe\">\n",
       "  <thead>\n",
       "    <tr style=\"text-align: right;\">\n",
       "      <th></th>\n",
       "      <th>id</th>\n",
       "      <th>keywords</th>\n",
       "      <th>genres</th>\n",
       "      <th>original_title</th>\n",
       "      <th>overview</th>\n",
       "      <th>production_companies</th>\n",
       "      <th>cast</th>\n",
       "      <th>crew</th>\n",
       "    </tr>\n",
       "  </thead>\n",
       "  <tbody>\n",
       "    <tr>\n",
       "      <th>0</th>\n",
       "      <td>862</td>\n",
       "      <td>[{'id': 931, 'name': 'jealousy'}, {'id': 4290,...</td>\n",
       "      <td>[{'id': 16, 'name': 'Animation'}, {'id': 35, '...</td>\n",
       "      <td>Toy Story</td>\n",
       "      <td>Led by Woody, Andy's toys live happily in his ...</td>\n",
       "      <td>[{'name': 'Pixar Animation Studios', 'id': 3}]</td>\n",
       "      <td>[{'cast_id': 14, 'character': 'Woody (voice)',...</td>\n",
       "      <td>[{'credit_id': '52fe4284c3a36847f8024f49', 'de...</td>\n",
       "    </tr>\n",
       "    <tr>\n",
       "      <th>1</th>\n",
       "      <td>8844</td>\n",
       "      <td>[{'id': 10090, 'name': 'board game'}, {'id': 1...</td>\n",
       "      <td>[{'id': 12, 'name': 'Adventure'}, {'id': 14, '...</td>\n",
       "      <td>Jumanji</td>\n",
       "      <td>When siblings Judy and Peter discover an encha...</td>\n",
       "      <td>[{'name': 'TriStar Pictures', 'id': 559}, {'na...</td>\n",
       "      <td>[{'cast_id': 1, 'character': 'Alan Parrish', '...</td>\n",
       "      <td>[{'credit_id': '52fe44bfc3a36847f80a7cd1', 'de...</td>\n",
       "    </tr>\n",
       "    <tr>\n",
       "      <th>2</th>\n",
       "      <td>15602</td>\n",
       "      <td>[{'id': 1495, 'name': 'fishing'}, {'id': 12392...</td>\n",
       "      <td>[{'id': 10749, 'name': 'Romance'}, {'id': 35, ...</td>\n",
       "      <td>Grumpier Old Men</td>\n",
       "      <td>A family wedding reignites the ancient feud be...</td>\n",
       "      <td>[{'name': 'Warner Bros.', 'id': 6194}, {'name'...</td>\n",
       "      <td>[{'cast_id': 2, 'character': 'Max Goldman', 'c...</td>\n",
       "      <td>[{'credit_id': '52fe466a9251416c75077a89', 'de...</td>\n",
       "    </tr>\n",
       "    <tr>\n",
       "      <th>3</th>\n",
       "      <td>31357</td>\n",
       "      <td>[{'id': 818, 'name': 'based on novel'}, {'id':...</td>\n",
       "      <td>[{'id': 35, 'name': 'Comedy'}, {'id': 18, 'nam...</td>\n",
       "      <td>Waiting to Exhale</td>\n",
       "      <td>Cheated on, mistreated and stepped on, the wom...</td>\n",
       "      <td>[{'name': 'Twentieth Century Fox Film Corporat...</td>\n",
       "      <td>[{'cast_id': 1, 'character': \"Savannah 'Vannah...</td>\n",
       "      <td>[{'credit_id': '52fe44779251416c91011acb', 'de...</td>\n",
       "    </tr>\n",
       "    <tr>\n",
       "      <th>4</th>\n",
       "      <td>11862</td>\n",
       "      <td>[{'id': 1009, 'name': 'baby'}, {'id': 1599, 'n...</td>\n",
       "      <td>[{'id': 35, 'name': 'Comedy'}]</td>\n",
       "      <td>Father of the Bride Part II</td>\n",
       "      <td>Just when George Banks has recovered from his ...</td>\n",
       "      <td>[{'name': 'Sandollar Productions', 'id': 5842}...</td>\n",
       "      <td>[{'cast_id': 1, 'character': 'George Banks', '...</td>\n",
       "      <td>[{'credit_id': '52fe44959251416c75039ed7', 'de...</td>\n",
       "    </tr>\n",
       "  </tbody>\n",
       "</table>\n",
       "</div>"
      ],
      "text/plain": [
       "      id                                           keywords  \\\n",
       "0    862  [{'id': 931, 'name': 'jealousy'}, {'id': 4290,...   \n",
       "1   8844  [{'id': 10090, 'name': 'board game'}, {'id': 1...   \n",
       "2  15602  [{'id': 1495, 'name': 'fishing'}, {'id': 12392...   \n",
       "3  31357  [{'id': 818, 'name': 'based on novel'}, {'id':...   \n",
       "4  11862  [{'id': 1009, 'name': 'baby'}, {'id': 1599, 'n...   \n",
       "\n",
       "                                              genres  \\\n",
       "0  [{'id': 16, 'name': 'Animation'}, {'id': 35, '...   \n",
       "1  [{'id': 12, 'name': 'Adventure'}, {'id': 14, '...   \n",
       "2  [{'id': 10749, 'name': 'Romance'}, {'id': 35, ...   \n",
       "3  [{'id': 35, 'name': 'Comedy'}, {'id': 18, 'nam...   \n",
       "4                     [{'id': 35, 'name': 'Comedy'}]   \n",
       "\n",
       "                original_title  \\\n",
       "0                    Toy Story   \n",
       "1                      Jumanji   \n",
       "2             Grumpier Old Men   \n",
       "3            Waiting to Exhale   \n",
       "4  Father of the Bride Part II   \n",
       "\n",
       "                                            overview  \\\n",
       "0  Led by Woody, Andy's toys live happily in his ...   \n",
       "1  When siblings Judy and Peter discover an encha...   \n",
       "2  A family wedding reignites the ancient feud be...   \n",
       "3  Cheated on, mistreated and stepped on, the wom...   \n",
       "4  Just when George Banks has recovered from his ...   \n",
       "\n",
       "                                production_companies  \\\n",
       "0     [{'name': 'Pixar Animation Studios', 'id': 3}]   \n",
       "1  [{'name': 'TriStar Pictures', 'id': 559}, {'na...   \n",
       "2  [{'name': 'Warner Bros.', 'id': 6194}, {'name'...   \n",
       "3  [{'name': 'Twentieth Century Fox Film Corporat...   \n",
       "4  [{'name': 'Sandollar Productions', 'id': 5842}...   \n",
       "\n",
       "                                                cast  \\\n",
       "0  [{'cast_id': 14, 'character': 'Woody (voice)',...   \n",
       "1  [{'cast_id': 1, 'character': 'Alan Parrish', '...   \n",
       "2  [{'cast_id': 2, 'character': 'Max Goldman', 'c...   \n",
       "3  [{'cast_id': 1, 'character': \"Savannah 'Vannah...   \n",
       "4  [{'cast_id': 1, 'character': 'George Banks', '...   \n",
       "\n",
       "                                                crew  \n",
       "0  [{'credit_id': '52fe4284c3a36847f8024f49', 'de...  \n",
       "1  [{'credit_id': '52fe44bfc3a36847f80a7cd1', 'de...  \n",
       "2  [{'credit_id': '52fe466a9251416c75077a89', 'de...  \n",
       "3  [{'credit_id': '52fe44779251416c91011acb', 'de...  \n",
       "4  [{'credit_id': '52fe44959251416c75039ed7', 'de...  "
      ]
     },
     "execution_count": 25,
     "metadata": {},
     "output_type": "execute_result"
    }
   ],
   "source": [
    "merged_data.head()"
   ]
  },
  {
   "cell_type": "code",
   "execution_count": 26,
   "id": "5b9c25e5",
   "metadata": {},
   "outputs": [],
   "source": [
    "import ast\n",
    "def toList(text):\n",
    "    list = []\n",
    "    for i in ast.literal_eval(text):                 #to convert the string object into a list\n",
    "            list.append(i['name'])\n",
    "    return list "
   ]
  },
  {
   "cell_type": "code",
   "execution_count": 27,
   "id": "c46c6792",
   "metadata": {},
   "outputs": [],
   "source": [
    "def toList2(data):\n",
    "    res = []\n",
    "    for word in data.strip().split(';'):\n",
    "        res.append(word)\n",
    "    return res"
   ]
  },
  {
   "cell_type": "code",
   "execution_count": 28,
   "id": "cb57a575",
   "metadata": {},
   "outputs": [],
   "source": [
    "merged_data['genres'] = merged_data['genres'].apply(toList)\n",
    "merged_data['keywords'] = merged_data['keywords'].apply(toList)"
   ]
  },
  {
   "cell_type": "code",
   "execution_count": 29,
   "id": "490e80b8",
   "metadata": {},
   "outputs": [],
   "source": [
    "metadata_raw_2[['genres','keywords']] = metadata_raw_2[['genres','keywords']].astype(str)"
   ]
  },
  {
   "cell_type": "code",
   "execution_count": 30,
   "id": "20b3d6ce",
   "metadata": {},
   "outputs": [],
   "source": [
    "metadata_raw_2['genres'] = metadata_raw_2['genres'].apply(toList2)\n",
    "metadata_raw_2['keywords'] = metadata_raw_2['keywords'].apply(toList2)"
   ]
  },
  {
   "cell_type": "code",
   "execution_count": 31,
   "id": "216be5c5",
   "metadata": {
    "scrolled": true
   },
   "outputs": [
    {
     "data": {
      "text/html": [
       "<div>\n",
       "<style scoped>\n",
       "    .dataframe tbody tr th:only-of-type {\n",
       "        vertical-align: middle;\n",
       "    }\n",
       "\n",
       "    .dataframe tbody tr th {\n",
       "        vertical-align: top;\n",
       "    }\n",
       "\n",
       "    .dataframe thead th {\n",
       "        text-align: right;\n",
       "    }\n",
       "</style>\n",
       "<table border=\"1\" class=\"dataframe\">\n",
       "  <thead>\n",
       "    <tr style=\"text-align: right;\">\n",
       "      <th></th>\n",
       "      <th>id</th>\n",
       "      <th>keywords</th>\n",
       "      <th>genres</th>\n",
       "      <th>original_title</th>\n",
       "      <th>overview</th>\n",
       "      <th>cast</th>\n",
       "      <th>crew</th>\n",
       "    </tr>\n",
       "  </thead>\n",
       "  <tbody>\n",
       "    <tr>\n",
       "      <th>0</th>\n",
       "      <td>3829920</td>\n",
       "      <td>[helicopter, wildfire, baby, firefighter, fore...</td>\n",
       "      <td>[Disaster, Action, Biography, Drama]</td>\n",
       "      <td>Only%20the%20Brave</td>\n",
       "      <td>In;2007;Prescott,;Arizona,;Eric;Marsh;of;the;P...</td>\n",
       "      <td>Josh Brolin;Miles Teller;Jeff Bridges;Jennifer...</td>\n",
       "      <td>Joseph Kosinski;Sean Flynn;Ken Nolan;Eric Warr...</td>\n",
       "    </tr>\n",
       "    <tr>\n",
       "      <th>1</th>\n",
       "      <td>1758810</td>\n",
       "      <td>[snow, police investigation, serial killer, pr...</td>\n",
       "      <td>[Serial Killer, Crime, Drama, Mystery, Thriller]</td>\n",
       "      <td>The%20Snowman</td>\n",
       "      <td>When;an;elite;crime;squad's;lead;detective;inv...</td>\n",
       "      <td>Michael Fassbender;Rebecca Ferguson;Charlotte ...</td>\n",
       "      <td>Tomas Alfredson;Jo NesbÃ¸;Peter Straughan;Hoss...</td>\n",
       "    </tr>\n",
       "    <tr>\n",
       "      <th>2</th>\n",
       "      <td>6217804</td>\n",
       "      <td>[sequel, second part, directed by star, rhyme ...</td>\n",
       "      <td>[Comedy, Drama, Horror, Mystery]</td>\n",
       "      <td>Boo%202!%20A%20Madea%20Halloween</td>\n",
       "      <td>The;film;opens;after;school;on;Tiffany's;18th;...</td>\n",
       "      <td>Tyler Perry;Cassi Davis;Patrice Lovely;Yousef ...</td>\n",
       "      <td>Tyler Perry;Tyler Perry;Brian Schulman;Ozzie A...</td>\n",
       "    </tr>\n",
       "    <tr>\n",
       "      <th>3</th>\n",
       "      <td>1230168</td>\n",
       "      <td>[homeless man, friendship, kindness, husband w...</td>\n",
       "      <td>[Biography, Drama]</td>\n",
       "      <td>Same%20Kind%20of%20Different%20as%20Me</td>\n",
       "      <td>Ron;Hall;(Greg;Kinnear);lost;track;of;what;mat...</td>\n",
       "      <td>Greg Kinnear;RenÃ©e Zellweger;Djimon Hounsou;J...</td>\n",
       "      <td>Michael Carney;Ron Hall;Denver Moore;Lynn Vinc...</td>\n",
       "    </tr>\n",
       "    <tr>\n",
       "      <th>4</th>\n",
       "      <td>2620590</td>\n",
       "      <td>[texas, chainsaw, nurse, barn, sheriff, violen...</td>\n",
       "      <td>[Serial Killer, Slasher Horror, Teen Horror, C...</td>\n",
       "      <td>Leatherface</td>\n",
       "      <td>A;violent;teen;and;three;others;kidnap;a;young...</td>\n",
       "      <td>Stephen Dorff;Lili Taylor;Sam Strike;Vanessa G...</td>\n",
       "      <td>Alexandre Bustillo;Julien Maury;Seth M. Sherwo...</td>\n",
       "    </tr>\n",
       "  </tbody>\n",
       "</table>\n",
       "</div>"
      ],
      "text/plain": [
       "        id                                           keywords  \\\n",
       "0  3829920  [helicopter, wildfire, baby, firefighter, fore...   \n",
       "1  1758810  [snow, police investigation, serial killer, pr...   \n",
       "2  6217804  [sequel, second part, directed by star, rhyme ...   \n",
       "3  1230168  [homeless man, friendship, kindness, husband w...   \n",
       "4  2620590  [texas, chainsaw, nurse, barn, sheriff, violen...   \n",
       "\n",
       "                                              genres  \\\n",
       "0               [Disaster, Action, Biography, Drama]   \n",
       "1   [Serial Killer, Crime, Drama, Mystery, Thriller]   \n",
       "2                   [Comedy, Drama, Horror, Mystery]   \n",
       "3                                 [Biography, Drama]   \n",
       "4  [Serial Killer, Slasher Horror, Teen Horror, C...   \n",
       "\n",
       "                           original_title  \\\n",
       "0                      Only%20the%20Brave   \n",
       "1                           The%20Snowman   \n",
       "2        Boo%202!%20A%20Madea%20Halloween   \n",
       "3  Same%20Kind%20of%20Different%20as%20Me   \n",
       "4                             Leatherface   \n",
       "\n",
       "                                            overview  \\\n",
       "0  In;2007;Prescott,;Arizona,;Eric;Marsh;of;the;P...   \n",
       "1  When;an;elite;crime;squad's;lead;detective;inv...   \n",
       "2  The;film;opens;after;school;on;Tiffany's;18th;...   \n",
       "3  Ron;Hall;(Greg;Kinnear);lost;track;of;what;mat...   \n",
       "4  A;violent;teen;and;three;others;kidnap;a;young...   \n",
       "\n",
       "                                                cast  \\\n",
       "0  Josh Brolin;Miles Teller;Jeff Bridges;Jennifer...   \n",
       "1  Michael Fassbender;Rebecca Ferguson;Charlotte ...   \n",
       "2  Tyler Perry;Cassi Davis;Patrice Lovely;Yousef ...   \n",
       "3  Greg Kinnear;RenÃ©e Zellweger;Djimon Hounsou;J...   \n",
       "4  Stephen Dorff;Lili Taylor;Sam Strike;Vanessa G...   \n",
       "\n",
       "                                                crew  \n",
       "0  Joseph Kosinski;Sean Flynn;Ken Nolan;Eric Warr...  \n",
       "1  Tomas Alfredson;Jo NesbÃ¸;Peter Straughan;Hoss...  \n",
       "2  Tyler Perry;Tyler Perry;Brian Schulman;Ozzie A...  \n",
       "3  Michael Carney;Ron Hall;Denver Moore;Lynn Vinc...  \n",
       "4  Alexandre Bustillo;Julien Maury;Seth M. Sherwo...  "
      ]
     },
     "execution_count": 31,
     "metadata": {},
     "output_type": "execute_result"
    }
   ],
   "source": [
    "metadata_raw_2.head()"
   ]
  },
  {
   "cell_type": "code",
   "execution_count": 32,
   "id": "15e2616e",
   "metadata": {},
   "outputs": [],
   "source": [
    "metadata_raw_2['original_title'] = metadata_raw_2['original_title'].astype(str)"
   ]
  },
  {
   "cell_type": "code",
   "execution_count": 33,
   "id": "65ff0391",
   "metadata": {},
   "outputs": [],
   "source": [
    "metadata_raw_2['original_title'] = metadata_raw_2['original_title'].apply(lambda x: x.strip().replace('%20',' '))"
   ]
  },
  {
   "cell_type": "code",
   "execution_count": 34,
   "id": "fe86cb9e",
   "metadata": {},
   "outputs": [],
   "source": [
    "metadata_raw_2[['original_title','overview']] = metadata_raw_2[['original_title','overview']].astype(str)"
   ]
  },
  {
   "cell_type": "code",
   "execution_count": 35,
   "id": "2edc82b7",
   "metadata": {},
   "outputs": [],
   "source": [
    "def getDir(obj):\n",
    "    list = []\n",
    "    for i in ast.literal_eval(obj):           #to convert the string object into a list\n",
    "        if i['job'] == 'Director':            # to get the name of the director of the movie \n",
    "            list.append(i['name'])\n",
    "            break;\n",
    "    return list "
   ]
  },
  {
   "cell_type": "code",
   "execution_count": 36,
   "id": "c0a7215f",
   "metadata": {},
   "outputs": [],
   "source": [
    "merged_data['crew'] = merged_data['crew'].apply(getDir)"
   ]
  },
  {
   "cell_type": "code",
   "execution_count": 37,
   "id": "3f58cfbd",
   "metadata": {},
   "outputs": [],
   "source": [
    "def get_dir2(data):\n",
    "    res = []\n",
    "    res.append(data.strip().split(';')[0])\n",
    "    return res"
   ]
  },
  {
   "cell_type": "code",
   "execution_count": 38,
   "id": "44bae9d5",
   "metadata": {},
   "outputs": [],
   "source": [
    "metadata_raw_2[['crew']] = metadata_raw_2[['crew']].astype(str)"
   ]
  },
  {
   "cell_type": "code",
   "execution_count": 39,
   "id": "39ff739c",
   "metadata": {},
   "outputs": [],
   "source": [
    "metadata_raw_2['crew'] = metadata_raw_2['crew'].apply(get_dir2)"
   ]
  },
  {
   "cell_type": "code",
   "execution_count": 40,
   "id": "57d23b64",
   "metadata": {
    "scrolled": true
   },
   "outputs": [],
   "source": [
    "def castNames(text):\n",
    "    list = []\n",
    "    counter = 0\n",
    "    for i in ast.literal_eval(text):           #to convert the string object into a list\n",
    "        if(counter<5):\n",
    "            list.append(i['name'])\n",
    "            counter+=1\n",
    "        else:\n",
    "            break\n",
    "    return list "
   ]
  },
  {
   "cell_type": "code",
   "execution_count": 41,
   "id": "51177f13",
   "metadata": {},
   "outputs": [],
   "source": [
    "merged_data['cast'] = merged_data['cast'].apply(castNames)"
   ]
  },
  {
   "cell_type": "code",
   "execution_count": 42,
   "id": "0f472dca",
   "metadata": {},
   "outputs": [],
   "source": [
    "metadata_raw_2[['cast']] = metadata_raw_2[['cast']].astype(str)"
   ]
  },
  {
   "cell_type": "code",
   "execution_count": 43,
   "id": "17699714",
   "metadata": {},
   "outputs": [],
   "source": [
    "def castNames2(data):\n",
    "    res = []\n",
    "    counter = 0\n",
    "    for name in data.strip().split(';'):\n",
    "        if counter < 5:\n",
    "            res.append(name)\n",
    "            counter+=1\n",
    "        else:\n",
    "            break\n",
    "    return res"
   ]
  },
  {
   "cell_type": "code",
   "execution_count": 44,
   "id": "d848b8a9",
   "metadata": {},
   "outputs": [],
   "source": [
    "metadata_raw_2['cast'] = metadata_raw_2['cast'].apply(castNames2)"
   ]
  },
  {
   "cell_type": "code",
   "execution_count": 45,
   "id": "8086e3d7",
   "metadata": {},
   "outputs": [],
   "source": [
    "merged_data['overview'] = merged_data['overview'].astype(str)\n",
    "merged_data['overview'] = merged_data['overview'].apply(lambda x : x.split())"
   ]
  },
  {
   "cell_type": "code",
   "execution_count": 46,
   "id": "0dffcfb7",
   "metadata": {},
   "outputs": [],
   "source": [
    "metadata_raw_2['overview'] = metadata_raw_2['overview'].apply(lambda x : x.split(';'))"
   ]
  },
  {
   "cell_type": "code",
   "execution_count": 47,
   "id": "6bb7987f",
   "metadata": {},
   "outputs": [],
   "source": [
    "def collapse(list):\n",
    "    collapsed_list = []\n",
    "    for i in list:\n",
    "        collapsed_list.append(i.replace(\" \",\"\"))\n",
    "    return collapsed_list"
   ]
  },
  {
   "cell_type": "code",
   "execution_count": 48,
   "id": "c74b0688",
   "metadata": {},
   "outputs": [],
   "source": [
    "merged_data['keywords'] = merged_data['keywords'].apply(collapse)\n",
    "merged_data['genres'] = merged_data['genres'].apply(collapse)\n",
    "merged_data['crew'] = merged_data['crew'].apply(collapse)\n",
    "merged_data['cast'] = merged_data['cast'].apply(collapse)"
   ]
  },
  {
   "cell_type": "code",
   "execution_count": 49,
   "id": "be63715f",
   "metadata": {},
   "outputs": [],
   "source": [
    "metadata_raw_2['keywords'] = metadata_raw_2['keywords'].apply(collapse)\n",
    "metadata_raw_2['genres'] = metadata_raw_2['genres'].apply(collapse)\n",
    "metadata_raw_2['crew'] = metadata_raw_2['crew'].apply(collapse)\n",
    "metadata_raw_2['cast'] = metadata_raw_2['cast'].apply(collapse)"
   ]
  },
  {
   "cell_type": "code",
   "execution_count": 50,
   "id": "b93c5abb",
   "metadata": {},
   "outputs": [
    {
     "data": {
      "text/html": [
       "<div>\n",
       "<style scoped>\n",
       "    .dataframe tbody tr th:only-of-type {\n",
       "        vertical-align: middle;\n",
       "    }\n",
       "\n",
       "    .dataframe tbody tr th {\n",
       "        vertical-align: top;\n",
       "    }\n",
       "\n",
       "    .dataframe thead th {\n",
       "        text-align: right;\n",
       "    }\n",
       "</style>\n",
       "<table border=\"1\" class=\"dataframe\">\n",
       "  <thead>\n",
       "    <tr style=\"text-align: right;\">\n",
       "      <th></th>\n",
       "      <th>id</th>\n",
       "      <th>keywords</th>\n",
       "      <th>genres</th>\n",
       "      <th>original_title</th>\n",
       "      <th>overview</th>\n",
       "      <th>production_companies</th>\n",
       "      <th>cast</th>\n",
       "      <th>crew</th>\n",
       "    </tr>\n",
       "  </thead>\n",
       "  <tbody>\n",
       "    <tr>\n",
       "      <th>0</th>\n",
       "      <td>862</td>\n",
       "      <td>[jealousy, toy, boy, friendship, friends, riva...</td>\n",
       "      <td>[Animation, Comedy, Family]</td>\n",
       "      <td>Toy Story</td>\n",
       "      <td>[Led, by, Woody,, Andy's, toys, live, happily,...</td>\n",
       "      <td>[{'name': 'Pixar Animation Studios', 'id': 3}]</td>\n",
       "      <td>[TomHanks, TimAllen, DonRickles, JimVarney, Wa...</td>\n",
       "      <td>[JohnLasseter]</td>\n",
       "    </tr>\n",
       "    <tr>\n",
       "      <th>1</th>\n",
       "      <td>8844</td>\n",
       "      <td>[boardgame, disappearance, basedonchildren'sbo...</td>\n",
       "      <td>[Adventure, Fantasy, Family]</td>\n",
       "      <td>Jumanji</td>\n",
       "      <td>[When, siblings, Judy, and, Peter, discover, a...</td>\n",
       "      <td>[{'name': 'TriStar Pictures', 'id': 559}, {'na...</td>\n",
       "      <td>[RobinWilliams, JonathanHyde, KirstenDunst, Br...</td>\n",
       "      <td>[JoeJohnston]</td>\n",
       "    </tr>\n",
       "    <tr>\n",
       "      <th>2</th>\n",
       "      <td>15602</td>\n",
       "      <td>[fishing, bestfriend, duringcreditsstinger, ol...</td>\n",
       "      <td>[Romance, Comedy]</td>\n",
       "      <td>Grumpier Old Men</td>\n",
       "      <td>[A, family, wedding, reignites, the, ancient, ...</td>\n",
       "      <td>[{'name': 'Warner Bros.', 'id': 6194}, {'name'...</td>\n",
       "      <td>[WalterMatthau, JackLemmon, Ann-Margret, Sophi...</td>\n",
       "      <td>[HowardDeutch]</td>\n",
       "    </tr>\n",
       "    <tr>\n",
       "      <th>3</th>\n",
       "      <td>31357</td>\n",
       "      <td>[basedonnovel, interracialrelationship, single...</td>\n",
       "      <td>[Comedy, Drama, Romance]</td>\n",
       "      <td>Waiting to Exhale</td>\n",
       "      <td>[Cheated, on,, mistreated, and, stepped, on,, ...</td>\n",
       "      <td>[{'name': 'Twentieth Century Fox Film Corporat...</td>\n",
       "      <td>[WhitneyHouston, AngelaBassett, LorettaDevine,...</td>\n",
       "      <td>[ForestWhitaker]</td>\n",
       "    </tr>\n",
       "    <tr>\n",
       "      <th>4</th>\n",
       "      <td>11862</td>\n",
       "      <td>[baby, midlifecrisis, confidence, aging, daugh...</td>\n",
       "      <td>[Comedy]</td>\n",
       "      <td>Father of the Bride Part II</td>\n",
       "      <td>[Just, when, George, Banks, has, recovered, fr...</td>\n",
       "      <td>[{'name': 'Sandollar Productions', 'id': 5842}...</td>\n",
       "      <td>[SteveMartin, DianeKeaton, MartinShort, Kimber...</td>\n",
       "      <td>[CharlesShyer]</td>\n",
       "    </tr>\n",
       "  </tbody>\n",
       "</table>\n",
       "</div>"
      ],
      "text/plain": [
       "      id                                           keywords  \\\n",
       "0    862  [jealousy, toy, boy, friendship, friends, riva...   \n",
       "1   8844  [boardgame, disappearance, basedonchildren'sbo...   \n",
       "2  15602  [fishing, bestfriend, duringcreditsstinger, ol...   \n",
       "3  31357  [basedonnovel, interracialrelationship, single...   \n",
       "4  11862  [baby, midlifecrisis, confidence, aging, daugh...   \n",
       "\n",
       "                         genres               original_title  \\\n",
       "0   [Animation, Comedy, Family]                    Toy Story   \n",
       "1  [Adventure, Fantasy, Family]                      Jumanji   \n",
       "2             [Romance, Comedy]             Grumpier Old Men   \n",
       "3      [Comedy, Drama, Romance]            Waiting to Exhale   \n",
       "4                      [Comedy]  Father of the Bride Part II   \n",
       "\n",
       "                                            overview  \\\n",
       "0  [Led, by, Woody,, Andy's, toys, live, happily,...   \n",
       "1  [When, siblings, Judy, and, Peter, discover, a...   \n",
       "2  [A, family, wedding, reignites, the, ancient, ...   \n",
       "3  [Cheated, on,, mistreated, and, stepped, on,, ...   \n",
       "4  [Just, when, George, Banks, has, recovered, fr...   \n",
       "\n",
       "                                production_companies  \\\n",
       "0     [{'name': 'Pixar Animation Studios', 'id': 3}]   \n",
       "1  [{'name': 'TriStar Pictures', 'id': 559}, {'na...   \n",
       "2  [{'name': 'Warner Bros.', 'id': 6194}, {'name'...   \n",
       "3  [{'name': 'Twentieth Century Fox Film Corporat...   \n",
       "4  [{'name': 'Sandollar Productions', 'id': 5842}...   \n",
       "\n",
       "                                                cast              crew  \n",
       "0  [TomHanks, TimAllen, DonRickles, JimVarney, Wa...    [JohnLasseter]  \n",
       "1  [RobinWilliams, JonathanHyde, KirstenDunst, Br...     [JoeJohnston]  \n",
       "2  [WalterMatthau, JackLemmon, Ann-Margret, Sophi...    [HowardDeutch]  \n",
       "3  [WhitneyHouston, AngelaBassett, LorettaDevine,...  [ForestWhitaker]  \n",
       "4  [SteveMartin, DianeKeaton, MartinShort, Kimber...    [CharlesShyer]  "
      ]
     },
     "execution_count": 50,
     "metadata": {},
     "output_type": "execute_result"
    }
   ],
   "source": [
    "merged_data.head()"
   ]
  },
  {
   "cell_type": "code",
   "execution_count": 51,
   "id": "a0897df1",
   "metadata": {},
   "outputs": [
    {
     "data": {
      "text/html": [
       "<div>\n",
       "<style scoped>\n",
       "    .dataframe tbody tr th:only-of-type {\n",
       "        vertical-align: middle;\n",
       "    }\n",
       "\n",
       "    .dataframe tbody tr th {\n",
       "        vertical-align: top;\n",
       "    }\n",
       "\n",
       "    .dataframe thead th {\n",
       "        text-align: right;\n",
       "    }\n",
       "</style>\n",
       "<table border=\"1\" class=\"dataframe\">\n",
       "  <thead>\n",
       "    <tr style=\"text-align: right;\">\n",
       "      <th></th>\n",
       "      <th>id</th>\n",
       "      <th>keywords</th>\n",
       "      <th>genres</th>\n",
       "      <th>original_title</th>\n",
       "      <th>overview</th>\n",
       "      <th>cast</th>\n",
       "      <th>crew</th>\n",
       "    </tr>\n",
       "  </thead>\n",
       "  <tbody>\n",
       "    <tr>\n",
       "      <th>0</th>\n",
       "      <td>3829920</td>\n",
       "      <td>[helicopter, wildfire, baby, firefighter, fore...</td>\n",
       "      <td>[Disaster, Action, Biography, Drama]</td>\n",
       "      <td>Only the Brave</td>\n",
       "      <td>[In, 2007, Prescott,, Arizona,, Eric, Marsh, o...</td>\n",
       "      <td>[JoshBrolin, MilesTeller, JeffBridges, Jennife...</td>\n",
       "      <td>[JosephKosinski]</td>\n",
       "    </tr>\n",
       "    <tr>\n",
       "      <th>1</th>\n",
       "      <td>1758810</td>\n",
       "      <td>[snow, policeinvestigation, serialkiller, prom...</td>\n",
       "      <td>[SerialKiller, Crime, Drama, Mystery, Thriller]</td>\n",
       "      <td>The Snowman</td>\n",
       "      <td>[When, an, elite, crime, squad's, lead, detect...</td>\n",
       "      <td>[MichaelFassbender, RebeccaFerguson, Charlotte...</td>\n",
       "      <td>[TomasAlfredson]</td>\n",
       "    </tr>\n",
       "    <tr>\n",
       "      <th>2</th>\n",
       "      <td>6217804</td>\n",
       "      <td>[sequel, secondpart, directedbystar, rhymeinti...</td>\n",
       "      <td>[Comedy, Drama, Horror, Mystery]</td>\n",
       "      <td>Boo 2! A Madea Halloween</td>\n",
       "      <td>[The, film, opens, after, school, on, Tiffany'...</td>\n",
       "      <td>[TylerPerry, CassiDavis, PatriceLovely, Yousef...</td>\n",
       "      <td>[TylerPerry]</td>\n",
       "    </tr>\n",
       "    <tr>\n",
       "      <th>3</th>\n",
       "      <td>1230168</td>\n",
       "      <td>[homelessman, friendship, kindness, husbandwif...</td>\n",
       "      <td>[Biography, Drama]</td>\n",
       "      <td>Same Kind of Different as Me</td>\n",
       "      <td>[Ron, Hall, (Greg, Kinnear), lost, track, of, ...</td>\n",
       "      <td>[GregKinnear, RenÃ©eZellweger, DjimonHounsou, ...</td>\n",
       "      <td>[MichaelCarney]</td>\n",
       "    </tr>\n",
       "    <tr>\n",
       "      <th>4</th>\n",
       "      <td>2620590</td>\n",
       "      <td>[texas, chainsaw, nurse, barn, sheriff, violen...</td>\n",
       "      <td>[SerialKiller, SlasherHorror, TeenHorror, Crim...</td>\n",
       "      <td>Leatherface</td>\n",
       "      <td>[A, violent, teen, and, three, others, kidnap,...</td>\n",
       "      <td>[StephenDorff, LiliTaylor, SamStrike, VanessaG...</td>\n",
       "      <td>[AlexandreBustillo]</td>\n",
       "    </tr>\n",
       "  </tbody>\n",
       "</table>\n",
       "</div>"
      ],
      "text/plain": [
       "        id                                           keywords  \\\n",
       "0  3829920  [helicopter, wildfire, baby, firefighter, fore...   \n",
       "1  1758810  [snow, policeinvestigation, serialkiller, prom...   \n",
       "2  6217804  [sequel, secondpart, directedbystar, rhymeinti...   \n",
       "3  1230168  [homelessman, friendship, kindness, husbandwif...   \n",
       "4  2620590  [texas, chainsaw, nurse, barn, sheriff, violen...   \n",
       "\n",
       "                                              genres  \\\n",
       "0               [Disaster, Action, Biography, Drama]   \n",
       "1    [SerialKiller, Crime, Drama, Mystery, Thriller]   \n",
       "2                   [Comedy, Drama, Horror, Mystery]   \n",
       "3                                 [Biography, Drama]   \n",
       "4  [SerialKiller, SlasherHorror, TeenHorror, Crim...   \n",
       "\n",
       "                 original_title  \\\n",
       "0                Only the Brave   \n",
       "1                   The Snowman   \n",
       "2      Boo 2! A Madea Halloween   \n",
       "3  Same Kind of Different as Me   \n",
       "4                   Leatherface   \n",
       "\n",
       "                                            overview  \\\n",
       "0  [In, 2007, Prescott,, Arizona,, Eric, Marsh, o...   \n",
       "1  [When, an, elite, crime, squad's, lead, detect...   \n",
       "2  [The, film, opens, after, school, on, Tiffany'...   \n",
       "3  [Ron, Hall, (Greg, Kinnear), lost, track, of, ...   \n",
       "4  [A, violent, teen, and, three, others, kidnap,...   \n",
       "\n",
       "                                                cast                 crew  \n",
       "0  [JoshBrolin, MilesTeller, JeffBridges, Jennife...     [JosephKosinski]  \n",
       "1  [MichaelFassbender, RebeccaFerguson, Charlotte...     [TomasAlfredson]  \n",
       "2  [TylerPerry, CassiDavis, PatriceLovely, Yousef...         [TylerPerry]  \n",
       "3  [GregKinnear, RenÃ©eZellweger, DjimonHounsou, ...      [MichaelCarney]  \n",
       "4  [StephenDorff, LiliTaylor, SamStrike, VanessaG...  [AlexandreBustillo]  "
      ]
     },
     "execution_count": 51,
     "metadata": {},
     "output_type": "execute_result"
    }
   ],
   "source": [
    "metadata_raw_2.head()"
   ]
  },
  {
   "cell_type": "code",
   "execution_count": 56,
   "id": "bcbf9748",
   "metadata": {},
   "outputs": [],
   "source": [
    "merged_data['collection'] = merged_data['keywords'] + merged_data['genres'] + merged_data['overview'] + merged_data['cast'] + merged_data['crew']"
   ]
  },
  {
   "cell_type": "code",
   "execution_count": 57,
   "id": "3b21651d",
   "metadata": {},
   "outputs": [],
   "source": [
    "metadata_raw_2['collection'] = metadata_raw_2['keywords'] + metadata_raw_2['genres'] + metadata_raw_2['overview'] + metadata_raw_2['cast'] + metadata_raw_2['crew']"
   ]
  },
  {
   "cell_type": "code",
   "execution_count": 58,
   "id": "8122deea",
   "metadata": {},
   "outputs": [],
   "source": [
    "merged_data = merged_data[['id','original_title', 'collection']]"
   ]
  },
  {
   "cell_type": "code",
   "execution_count": 59,
   "id": "b2f8905c",
   "metadata": {},
   "outputs": [],
   "source": [
    "metadata_raw_2 = metadata_raw_2[['id','original_title', 'collection']]"
   ]
  },
  {
   "cell_type": "code",
   "execution_count": 60,
   "id": "6fd44997",
   "metadata": {},
   "outputs": [],
   "source": [
    "final_merge = pd.concat([merged_data,metadata_raw_2], axis = 0, ignore_index = True)"
   ]
  },
  {
   "cell_type": "code",
   "execution_count": 64,
   "id": "cd154925",
   "metadata": {},
   "outputs": [
    {
     "data": {
      "text/html": [
       "<div>\n",
       "<style scoped>\n",
       "    .dataframe tbody tr th:only-of-type {\n",
       "        vertical-align: middle;\n",
       "    }\n",
       "\n",
       "    .dataframe tbody tr th {\n",
       "        vertical-align: top;\n",
       "    }\n",
       "\n",
       "    .dataframe thead th {\n",
       "        text-align: right;\n",
       "    }\n",
       "</style>\n",
       "<table border=\"1\" class=\"dataframe\">\n",
       "  <thead>\n",
       "    <tr style=\"text-align: right;\">\n",
       "      <th></th>\n",
       "      <th>id</th>\n",
       "      <th>original_title</th>\n",
       "      <th>collection</th>\n",
       "    </tr>\n",
       "  </thead>\n",
       "  <tbody>\n",
       "    <tr>\n",
       "      <th>0</th>\n",
       "      <td>862</td>\n",
       "      <td>Toy Story</td>\n",
       "      <td>[jealousy, toy, boy, friendship, friends, riva...</td>\n",
       "    </tr>\n",
       "    <tr>\n",
       "      <th>1</th>\n",
       "      <td>8844</td>\n",
       "      <td>Jumanji</td>\n",
       "      <td>[boardgame, disappearance, basedonchildren'sbo...</td>\n",
       "    </tr>\n",
       "    <tr>\n",
       "      <th>2</th>\n",
       "      <td>15602</td>\n",
       "      <td>Grumpier Old Men</td>\n",
       "      <td>[fishing, bestfriend, duringcreditsstinger, ol...</td>\n",
       "    </tr>\n",
       "    <tr>\n",
       "      <th>3</th>\n",
       "      <td>31357</td>\n",
       "      <td>Waiting to Exhale</td>\n",
       "      <td>[basedonnovel, interracialrelationship, single...</td>\n",
       "    </tr>\n",
       "    <tr>\n",
       "      <th>4</th>\n",
       "      <td>11862</td>\n",
       "      <td>Father of the Bride Part II</td>\n",
       "      <td>[baby, midlifecrisis, confidence, aging, daugh...</td>\n",
       "    </tr>\n",
       "    <tr>\n",
       "      <th>...</th>\n",
       "      <td>...</td>\n",
       "      <td>...</td>\n",
       "      <td>...</td>\n",
       "    </tr>\n",
       "    <tr>\n",
       "      <th>36135</th>\n",
       "      <td>14307536</td>\n",
       "      <td>A Jazzman's Blues</td>\n",
       "      <td>[love, story, murder, secret, 1930s, 1980s, ye...</td>\n",
       "    </tr>\n",
       "    <tr>\n",
       "      <th>36136</th>\n",
       "      <td>57773</td>\n",
       "      <td>The Munsters</td>\n",
       "      <td>[sitcom, monster, spoof, husbandwiferelationsh...</td>\n",
       "    </tr>\n",
       "    <tr>\n",
       "      <th>36137</th>\n",
       "      <td>15474916</td>\n",
       "      <td>Smile</td>\n",
       "      <td>[psychological, jumpscare, curse, goinginsane,...</td>\n",
       "    </tr>\n",
       "    <tr>\n",
       "      <th>36138</th>\n",
       "      <td>9731598</td>\n",
       "      <td>Bros</td>\n",
       "      <td>[mansucksaman'sfinger, barechestedmale, gaykis...</td>\n",
       "    </tr>\n",
       "    <tr>\n",
       "      <th>36139</th>\n",
       "      <td>11909878</td>\n",
       "      <td>Hocus Pocus 2</td>\n",
       "      <td>[sequel, witch, spell, magic, curse, secondpar...</td>\n",
       "    </tr>\n",
       "  </tbody>\n",
       "</table>\n",
       "<p>36140 rows × 3 columns</p>\n",
       "</div>"
      ],
      "text/plain": [
       "             id               original_title  \\\n",
       "0           862                    Toy Story   \n",
       "1          8844                      Jumanji   \n",
       "2         15602             Grumpier Old Men   \n",
       "3         31357            Waiting to Exhale   \n",
       "4         11862  Father of the Bride Part II   \n",
       "...         ...                          ...   \n",
       "36135  14307536            A Jazzman's Blues   \n",
       "36136     57773                 The Munsters   \n",
       "36137  15474916                        Smile   \n",
       "36138   9731598                         Bros   \n",
       "36139  11909878                Hocus Pocus 2   \n",
       "\n",
       "                                              collection  \n",
       "0      [jealousy, toy, boy, friendship, friends, riva...  \n",
       "1      [boardgame, disappearance, basedonchildren'sbo...  \n",
       "2      [fishing, bestfriend, duringcreditsstinger, ol...  \n",
       "3      [basedonnovel, interracialrelationship, single...  \n",
       "4      [baby, midlifecrisis, confidence, aging, daugh...  \n",
       "...                                                  ...  \n",
       "36135  [love, story, murder, secret, 1930s, 1980s, ye...  \n",
       "36136  [sitcom, monster, spoof, husbandwiferelationsh...  \n",
       "36137  [psychological, jumpscare, curse, goinginsane,...  \n",
       "36138  [mansucksaman'sfinger, barechestedmale, gaykis...  \n",
       "36139  [sequel, witch, spell, magic, curse, secondpar...  \n",
       "\n",
       "[36140 rows x 3 columns]"
      ]
     },
     "execution_count": 64,
     "metadata": {},
     "output_type": "execute_result"
    }
   ],
   "source": [
    "final_merge"
   ]
  },
  {
   "cell_type": "code",
   "execution_count": 65,
   "id": "2b411e88",
   "metadata": {},
   "outputs": [],
   "source": [
    "final_merge['collection'] = final_merge['collection'].apply(lambda x: \" \".join(x))"
   ]
  },
  {
   "cell_type": "code",
   "execution_count": 80,
   "id": "06b74b65",
   "metadata": {},
   "outputs": [
    {
     "data": {
      "text/html": [
       "<div>\n",
       "<style scoped>\n",
       "    .dataframe tbody tr th:only-of-type {\n",
       "        vertical-align: middle;\n",
       "    }\n",
       "\n",
       "    .dataframe tbody tr th {\n",
       "        vertical-align: top;\n",
       "    }\n",
       "\n",
       "    .dataframe thead th {\n",
       "        text-align: right;\n",
       "    }\n",
       "</style>\n",
       "<table border=\"1\" class=\"dataframe\">\n",
       "  <thead>\n",
       "    <tr style=\"text-align: right;\">\n",
       "      <th></th>\n",
       "      <th>id</th>\n",
       "      <th>original_title</th>\n",
       "      <th>collection</th>\n",
       "    </tr>\n",
       "  </thead>\n",
       "  <tbody>\n",
       "    <tr>\n",
       "      <th>0</th>\n",
       "      <td>862</td>\n",
       "      <td>Toy Story</td>\n",
       "      <td>jealousy toy boy friendship friends rivalry bo...</td>\n",
       "    </tr>\n",
       "    <tr>\n",
       "      <th>1</th>\n",
       "      <td>8844</td>\n",
       "      <td>Jumanji</td>\n",
       "      <td>boardgame disappearance basedonchildren'sbook ...</td>\n",
       "    </tr>\n",
       "    <tr>\n",
       "      <th>2</th>\n",
       "      <td>15602</td>\n",
       "      <td>Grumpier Old Men</td>\n",
       "      <td>fishing bestfriend duringcreditsstinger oldmen...</td>\n",
       "    </tr>\n",
       "    <tr>\n",
       "      <th>3</th>\n",
       "      <td>31357</td>\n",
       "      <td>Waiting to Exhale</td>\n",
       "      <td>basedonnovel interracialrelationship singlemot...</td>\n",
       "    </tr>\n",
       "    <tr>\n",
       "      <th>4</th>\n",
       "      <td>11862</td>\n",
       "      <td>Father of the Bride Part II</td>\n",
       "      <td>baby midlifecrisis confidence aging daughter m...</td>\n",
       "    </tr>\n",
       "    <tr>\n",
       "      <th>...</th>\n",
       "      <td>...</td>\n",
       "      <td>...</td>\n",
       "      <td>...</td>\n",
       "    </tr>\n",
       "    <tr>\n",
       "      <th>36135</th>\n",
       "      <td>14307536</td>\n",
       "      <td>A Jazzman's Blues</td>\n",
       "      <td>love story murder secret 1930s 1980s year1937 ...</td>\n",
       "    </tr>\n",
       "    <tr>\n",
       "      <th>36136</th>\n",
       "      <td>57773</td>\n",
       "      <td>The Munsters</td>\n",
       "      <td>sitcom monster spoof husbandwiferelationship f...</td>\n",
       "    </tr>\n",
       "    <tr>\n",
       "      <th>36137</th>\n",
       "      <td>15474916</td>\n",
       "      <td>Smile</td>\n",
       "      <td>psychological jumpscare curse goinginsane evil...</td>\n",
       "    </tr>\n",
       "    <tr>\n",
       "      <th>36138</th>\n",
       "      <td>9731598</td>\n",
       "      <td>Bros</td>\n",
       "      <td>mansucksaman'sfinger barechestedmale gaykiss g...</td>\n",
       "    </tr>\n",
       "    <tr>\n",
       "      <th>36139</th>\n",
       "      <td>11909878</td>\n",
       "      <td>Hocus Pocus 2</td>\n",
       "      <td>sequel witch spell magic curse secondpart powe...</td>\n",
       "    </tr>\n",
       "  </tbody>\n",
       "</table>\n",
       "<p>36140 rows × 3 columns</p>\n",
       "</div>"
      ],
      "text/plain": [
       "             id               original_title  \\\n",
       "0           862                    Toy Story   \n",
       "1          8844                      Jumanji   \n",
       "2         15602             Grumpier Old Men   \n",
       "3         31357            Waiting to Exhale   \n",
       "4         11862  Father of the Bride Part II   \n",
       "...         ...                          ...   \n",
       "36135  14307536            A Jazzman's Blues   \n",
       "36136     57773                 The Munsters   \n",
       "36137  15474916                        Smile   \n",
       "36138   9731598                         Bros   \n",
       "36139  11909878                Hocus Pocus 2   \n",
       "\n",
       "                                              collection  \n",
       "0      jealousy toy boy friendship friends rivalry bo...  \n",
       "1      boardgame disappearance basedonchildren'sbook ...  \n",
       "2      fishing bestfriend duringcreditsstinger oldmen...  \n",
       "3      basedonnovel interracialrelationship singlemot...  \n",
       "4      baby midlifecrisis confidence aging daughter m...  \n",
       "...                                                  ...  \n",
       "36135  love story murder secret 1930s 1980s year1937 ...  \n",
       "36136  sitcom monster spoof husbandwiferelationship f...  \n",
       "36137  psychological jumpscare curse goinginsane evil...  \n",
       "36138  mansucksaman'sfinger barechestedmale gaykiss g...  \n",
       "36139  sequel witch spell magic curse secondpart powe...  \n",
       "\n",
       "[36140 rows x 3 columns]"
      ]
     },
     "execution_count": 80,
     "metadata": {},
     "output_type": "execute_result"
    }
   ],
   "source": [
    "final_merge"
   ]
  },
  {
   "cell_type": "code",
   "execution_count": 83,
   "id": "ab0db4e9",
   "metadata": {},
   "outputs": [],
   "source": [
    "final_merge.drop_duplicates(inplace = True)"
   ]
  },
  {
   "cell_type": "markdown",
   "id": "d6902cc5",
   "metadata": {},
   "source": [
    "### Creating the recommender:\n",
    "\n",
    "Now that we have our final data, we can move on to creating the model and running our recommender system."
   ]
  },
  {
   "cell_type": "code",
   "execution_count": 71,
   "id": "4b742ead",
   "metadata": {},
   "outputs": [],
   "source": [
    "# Importing Required packages:\n",
    "import nltk\n",
    "from sklearn.metrics.pairwise import cosine_similarity\n",
    "from sklearn.feature_extraction.text import CountVectorizer\n",
    "from nltk.stem.porter import PorterStemmer"
   ]
  },
  {
   "cell_type": "code",
   "execution_count": 73,
   "id": "8fa512f8",
   "metadata": {},
   "outputs": [],
   "source": [
    "# Creating Porter stemmer object\n",
    "ps = PorterStemmer()"
   ]
  },
  {
   "cell_type": "code",
   "execution_count": 74,
   "id": "4cbc72f6",
   "metadata": {},
   "outputs": [],
   "source": [
    "# We'd be needing the base form of words to act as rating factor for different movies\n",
    "# so we'll be stemming down the words in the collection.\n",
    "def stem(text):\n",
    "    y = []\n",
    "    \n",
    "    for i in text.split():\n",
    "        y.append(ps.stem(i))\n",
    "        \n",
    "    return \" \".join(y)"
   ]
  },
  {
   "cell_type": "code",
   "execution_count": 85,
   "id": "83e0536c",
   "metadata": {},
   "outputs": [],
   "source": [
    "# applying the stemming process to our collection of data\n",
    "final_merge['collection'] = final_merge['collection'].apply(stem)"
   ]
  },
  {
   "cell_type": "code",
   "execution_count": 89,
   "id": "d7c54ca8",
   "metadata": {},
   "outputs": [],
   "source": [
    "# Creating a vector from our vocabulary of words and removing the common non-relevnt words\n",
    "cv = CountVectorizer(max_features=5000,stop_words='english')"
   ]
  },
  {
   "cell_type": "code",
   "execution_count": 90,
   "id": "8b330d6b",
   "metadata": {},
   "outputs": [
    {
     "data": {
      "text/plain": [
       "(34899, 5000)"
      ]
     },
     "execution_count": 90,
     "metadata": {},
     "output_type": "execute_result"
    }
   ],
   "source": [
    "# Fitting the vector of vocabulary with our collection of words for each individual movie\n",
    "# its like creating a matrix consisting of movies in each row and every distinct word of\n",
    "# our vocabulary in the columns and every movie will be having a vector which will go through\n",
    "# only those columns of which the words descrivbes the movie best\n",
    "vector = cv.fit_transform(final_merge['collection']).toarray()\n",
    "vector.shape"
   ]
  },
  {
   "cell_type": "code",
   "execution_count": 91,
   "id": "4e02875f",
   "metadata": {},
   "outputs": [],
   "source": [
    "# defining a similarity object which will make relations among movies and according to which\n",
    "# we can have our recommender sustem give similarly vectorised movies with our choice provided.\n",
    "similarity = cosine_similarity(vector)"
   ]
  },
  {
   "cell_type": "code",
   "execution_count": 92,
   "id": "8722ae84",
   "metadata": {},
   "outputs": [],
   "source": [
    "# the final function which will give us recommendation based on our choice\n",
    "def recommend(movie):\n",
    "    index = final_merge[final_merge['original_title'] == movie].index[0]\n",
    "    distances = similarity[index]\n",
    "    most_similar_movies = sorted(list(enumerate(distances)),reverse=True,key = lambda x: x[1])[1:6]\n",
    "    \n",
    "    for i in most_similar_movies:\n",
    "        print(final_merge.iloc[i[0]].original_title)\n",
    "# Make sure to type the correct name of the movie.. we dont have a closest match system yet ;P\n",
    "# will be adding closest match of movies searched by using python's 'difflib' library"
   ]
  },
  {
   "cell_type": "code",
   "execution_count": 118,
   "id": "6fd473a5",
   "metadata": {
    "scrolled": true
   },
   "outputs": [
    {
     "name": "stdout",
     "output_type": "stream",
     "text": [
      "Bright Eyes\n",
      "Cluny Brown\n",
      "A Horse for Danny\n",
      "No, No, Nanette\n",
      "The Lion King\n"
     ]
    }
   ],
   "source": [
    "recommend('Life of Pi')"
   ]
  }
 ],
 "metadata": {
  "kernelspec": {
   "display_name": "Python 3 (ipykernel)",
   "language": "python",
   "name": "python3"
  },
  "language_info": {
   "codemirror_mode": {
    "name": "ipython",
    "version": 3
   },
   "file_extension": ".py",
   "mimetype": "text/x-python",
   "name": "python",
   "nbconvert_exporter": "python",
   "pygments_lexer": "ipython3",
   "version": "3.11.5"
  }
 },
 "nbformat": 4,
 "nbformat_minor": 5
}
